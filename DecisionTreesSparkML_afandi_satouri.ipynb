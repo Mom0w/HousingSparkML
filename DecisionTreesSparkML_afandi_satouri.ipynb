{
  "nbformat": 4,
  "nbformat_minor": 0,
  "metadata": {
    "application/vnd.databricks.v1+notebook": {
      "dashboards": [],
      "language": "python",
      "notebookMetadata": {
        "pythonIndentUnit": 2
      },
      "notebookName": "Spark-RDD-2021_solutions",
      "notebookOrigID": 2832703719774903,
      "widgets": {}
    },
    "colab": {
      "provenance": [],
      "toc_visible": true
    },
    "kernelspec": {
      "display_name": "Python 3",
      "name": "python3"
    },
    "language_info": {
      "name": "python"
    }
  },
  "cells": [
    {
      "cell_type": "markdown",
      "metadata": {
        "id": "kCaImCHx_2a_"
      },
      "source": [
        "# **Projet 2 BDLE**\n",
        "# Mohammad Afandi, Moïne Satouri\n",
        "\n"
      ]
    },
    {
      "cell_type": "markdown",
      "metadata": {
        "id": "XzEVmTXWQq-n"
      },
      "source": [
        "# Decision Tree in Spark ML"
      ]
    },
    {
      "cell_type": "markdown",
      "metadata": {
        "id": "Tf4NyxxIXDbp"
      },
      "source": [
        "## Objectif"
      ]
    },
    {
      "cell_type": "markdown",
      "metadata": {
        "id": "QqJe0bltXE0j"
      },
      "source": [
        "Réaliser une pipeline ML sur les données \"Housing\" (https://www.kaggle.com/austinreese/usa-housing-listings)"
      ]
    },
    {
      "cell_type": "markdown",
      "metadata": {
        "id": "levNDESpS1hT"
      },
      "source": [
        "## Préparation"
      ]
    },
    {
      "cell_type": "markdown",
      "metadata": {
        "id": "4pZBsez9S1hT"
      },
      "source": [
        "Vérifier que des ressources de calcul sont allouées à votre notebook est connecté (cf RAM  de disque indiqués en haut à droite) . Sinon cliquer sur le bouton connecter pour obtenir des ressources.\n",
        "\n",
        "\n"
      ]
    },
    {
      "cell_type": "markdown",
      "metadata": {
        "id": "CEjerqQ6Ink6"
      },
      "source": [
        "Pour accéder directement aux fichiers stockées sur votre google drive. Renseigner le code d'authentification lorsqu'il est demandé\n",
        "\n",
        "Ajuster le nom de votre dossier : MyDrive/ens/bdle/dir. **Remplacer dir **"
      ]
    },
    {
      "cell_type": "code",
      "metadata": {
        "colab": {
          "base_uri": "https://localhost:8080/"
        },
        "id": "g7Dv93rsImuM",
        "outputId": "b6dddda2-a629-49d5-aa29-750f849ce660"
      },
      "source": [
        "import os\n",
        "from google.colab import drive\n",
        "drive.mount(\"/content/drive\", force_remount=True)\n",
        "\n",
        "drive_dir = \"/content/drive/MyDrive/BDLE\"\n",
        "os.makedirs(drive_dir, exist_ok=True)\n",
        "os.listdir(drive_dir)"
      ],
      "execution_count": 1,
      "outputs": [
        {
          "output_type": "stream",
          "name": "stdout",
          "text": [
            "Mounted at /content/drive\n"
          ]
        },
        {
          "output_type": "execute_result",
          "data": {
            "text/plain": [
              "['data',\n",
              " 'DecisionTreesSparkML_afandi_satouri.ipynb',\n",
              " 'DecisionTreesSparkML_afandi_satouri(1).ipynb',\n",
              " '1.ipynb',\n",
              " 'DecisionTreesSparkML_afandi_satouri_final.ipynb']"
            ]
          },
          "metadata": {},
          "execution_count": 1
        }
      ]
    },
    {
      "cell_type": "markdown",
      "metadata": {
        "id": "vT0QTJo8dKkY"
      },
      "source": [
        "Télécharger le jeu de données"
      ]
    },
    {
      "cell_type": "code",
      "metadata": {
        "id": "XzwdkuAzdJ1S"
      },
      "source": [
        "# os.environ['KAGGLE_CONFIG_DIR'] = \"/content/drive/MyDrive/BDLE\"\n",
        "# !kaggle datasets download --force -d austinreese/usa-housing-listings"
      ],
      "execution_count": 2,
      "outputs": []
    },
    {
      "cell_type": "code",
      "metadata": {
        "id": "frguLkDegiZN"
      },
      "source": [
        "# !unzip usa-housing-listings.zip"
      ],
      "execution_count": 3,
      "outputs": []
    },
    {
      "cell_type": "markdown",
      "metadata": {
        "id": "7v9EXMl8aPZC"
      },
      "source": [
        "Installer pyspark et findspark :\n"
      ]
    },
    {
      "cell_type": "code",
      "metadata": {
        "id": "3zlwNHy1S8C2",
        "colab": {
          "base_uri": "https://localhost:8080/"
        },
        "outputId": "996fadfa-a797-4c35-87c3-82856e80554f"
      },
      "source": [
        "!pip install -q pyspark\n",
        "!pip install -q findspark"
      ],
      "execution_count": 4,
      "outputs": [
        {
          "output_type": "stream",
          "name": "stdout",
          "text": [
            "\u001b[K     |████████████████████████████████| 281.4 MB 42 kB/s \n",
            "\u001b[K     |████████████████████████████████| 199 kB 52.7 MB/s \n",
            "\u001b[?25h  Building wheel for pyspark (setup.py) ... \u001b[?25l\u001b[?25hdone\n"
          ]
        }
      ]
    },
    {
      "cell_type": "markdown",
      "metadata": {
        "id": "PnEmOd_zOUo0"
      },
      "source": [
        "Démarrer la session spark"
      ]
    },
    {
      "cell_type": "code",
      "metadata": {
        "id": "W0ADH0J-VW7i"
      },
      "source": [
        "import os\n",
        "# !find /usr/local -name \"pyspark\"\n",
        "os.environ[\"SPARK_HOME\"] = \"/usr/local/lib/python3.7/dist-packages/pyspark\"\n",
        "os.environ[\"JAVA_HOME\"] = \"/usr\""
      ],
      "execution_count": 5,
      "outputs": []
    },
    {
      "cell_type": "code",
      "metadata": {
        "colab": {
          "base_uri": "https://localhost:8080/"
        },
        "id": "Q_WxQZB7TaUC",
        "outputId": "97ae3e4f-808f-49fa-bb70-617630b1f99f"
      },
      "source": [
        "# Principaux import\n",
        "import findspark\n",
        "from pyspark.sql import SparkSession \n",
        "from pyspark import SparkConf  \n",
        "\n",
        "# pour les dataframe et udf\n",
        "from pyspark.sql import *  \n",
        "from pyspark.sql.functions import *\n",
        "from pyspark.sql.types import *\n",
        "from datetime import *\n",
        "\n",
        "# pour le chronomètre\n",
        "import time\n",
        "\n",
        "# initialise les variables d'environnement pour spark\n",
        "findspark.init()\n",
        "\n",
        "# Démarrage session spark \n",
        "# --------------------------\n",
        "def demarrer_spark():\n",
        "  local = \"local[*]\"\n",
        "  appName = \"TP\"\n",
        "  configLocale = SparkConf().setAppName(appName).setMaster(local).\\\n",
        "  set(\"spark.executor.memory\", \"6G\").\\\n",
        "  set(\"spark.driver.memory\",\"6G\").\\\n",
        "  set(\"spark.sql.catalogImplementation\",\"in-memory\")\n",
        "  \n",
        "  spark = SparkSession.builder.config(conf = configLocale).getOrCreate()\n",
        "  sc = spark.sparkContext\n",
        "  sc.setLogLevel(\"ERROR\")\n",
        "  \n",
        "  spark.conf.set(\"spark.sql.autoBroadcastJoinThreshold\",\"-1\")\n",
        "\n",
        "  # On ajuste l'environnement d'exécution des requêtes à la taille du cluster (4 coeurs)\n",
        "  spark.conf.set(\"spark.sql.shuffle.partitions\",\"4\")    \n",
        "  print(\"session démarrée, son id est \", sc.applicationId)\n",
        "  return spark\n",
        "spark = demarrer_spark()"
      ],
      "execution_count": 6,
      "outputs": [
        {
          "output_type": "stream",
          "name": "stdout",
          "text": [
            "session démarrée, son id est  local-1669250116850\n"
          ]
        }
      ]
    },
    {
      "cell_type": "code",
      "metadata": {
        "id": "fj9pUgrmGpLe",
        "colab": {
          "base_uri": "https://localhost:8080/"
        },
        "outputId": "6c2b185c-fb23-4706-e174-3f14dbad5d9f"
      },
      "source": [
        "# on utilise 8 partitions au lieu de 200 par défaut\n",
        "spark.conf.set(\"spark.sql.shuffle.partitions\", \"8\")\n",
        "print(\"Nombre de partitions utilisées : \", spark.conf.get(\"spark.sql.shuffle.partitions\"))"
      ],
      "execution_count": 7,
      "outputs": [
        {
          "output_type": "stream",
          "name": "stdout",
          "text": [
            "Nombre de partitions utilisées :  8\n"
          ]
        }
      ]
    },
    {
      "cell_type": "markdown",
      "metadata": {
        "id": "NtjUaom1_2bC"
      },
      "source": [
        "## Chargement des données"
      ]
    },
    {
      "cell_type": "code",
      "metadata": {
        "id": "MQa_aBglRt9A",
        "colab": {
          "base_uri": "https://localhost:8080/"
        },
        "outputId": "dc994f53-6ea0-4e75-b373-98bf0dc12ea3"
      },
      "source": [
        "#df = spark.read.options(mode='FAILFAST', multiLine=True, escape='\"').option(\"header\",\"true\").option(\"inferSchema\", True).csv(\"./housing.csv\")\n",
        "df = spark.read.options(mode='FAILFAST', multiLine=True, escape='\"').option(\"header\",\"true\").option(\"inferSchema\", True).csv(\"drive/MyDrive/BDLE/data/housing.csv\")\n",
        "df.printSchema()\n",
        "df.show()"
      ],
      "execution_count": 8,
      "outputs": [
        {
          "output_type": "stream",
          "name": "stdout",
          "text": [
            "root\n",
            " |-- id: long (nullable = true)\n",
            " |-- url: string (nullable = true)\n",
            " |-- region: string (nullable = true)\n",
            " |-- region_url: string (nullable = true)\n",
            " |-- price: long (nullable = true)\n",
            " |-- type: string (nullable = true)\n",
            " |-- sqfeet: integer (nullable = true)\n",
            " |-- beds: integer (nullable = true)\n",
            " |-- baths: double (nullable = true)\n",
            " |-- cats_allowed: integer (nullable = true)\n",
            " |-- dogs_allowed: integer (nullable = true)\n",
            " |-- smoking_allowed: integer (nullable = true)\n",
            " |-- wheelchair_access: integer (nullable = true)\n",
            " |-- electric_vehicle_charge: integer (nullable = true)\n",
            " |-- comes_furnished: integer (nullable = true)\n",
            " |-- laundry_options: string (nullable = true)\n",
            " |-- parking_options: string (nullable = true)\n",
            " |-- image_url: string (nullable = true)\n",
            " |-- description: string (nullable = true)\n",
            " |-- lat: double (nullable = true)\n",
            " |-- long: double (nullable = true)\n",
            " |-- state: string (nullable = true)\n",
            "\n",
            "+----------+--------------------+------------+--------------------+-----+---------+------+----+-----+------------+------------+---------------+-----------------+-----------------------+---------------+---------------+------------------+--------------------+--------------------+-------+--------+-----+\n",
            "|        id|                 url|      region|          region_url|price|     type|sqfeet|beds|baths|cats_allowed|dogs_allowed|smoking_allowed|wheelchair_access|electric_vehicle_charge|comes_furnished|laundry_options|   parking_options|           image_url|         description|    lat|    long|state|\n",
            "+----------+--------------------+------------+--------------------+-----+---------+------+----+-----+------------+------------+---------------+-----------------+-----------------------+---------------+---------------+------------------+--------------------+--------------------+-------+--------+-----+\n",
            "|7049044568|https://reno.crai...|reno / tahoe|https://reno.crai...| 1148|apartment|  1078|   3|  2.0|           1|           1|              0|                0|                      0|              0|    w/d in unit|           carport|https://images.cr...|Ridgeview by Vint...|39.5483|-119.796|   ca|\n",
            "|7049047186|https://reno.crai...|reno / tahoe|https://reno.crai...| 1200|    condo|  1001|   2|  2.0|           0|           0|              0|                0|                      0|              0|    w/d hookups|           carport|https://images.cr...|Conveniently loca...|39.5026|-119.789|   ca|\n",
            "|7043634882|https://reno.crai...|reno / tahoe|https://reno.crai...| 1813|apartment|  1683|   2|  2.0|           1|           1|              1|                0|                      0|              0|    w/d in unit|   attached garage|https://images.cr...|2BD | 2BA | 1683S...|39.6269|-119.708|   ca|\n",
            "|7049045324|https://reno.crai...|reno / tahoe|https://reno.crai...| 1095|apartment|   708|   1|  1.0|           1|           1|              1|                0|                      0|              0|    w/d in unit|           carport|https://images.cr...|MOVE IN SPECIAL F...|39.4477|-119.771|   ca|\n",
            "|7049043759|https://reno.crai...|reno / tahoe|https://reno.crai...|  289|apartment|   250|   0|  1.0|           1|           1|              1|                1|                      0|              1|laundry on site|              null|https://images.cr...|Move In Today: Re...|39.5357|-119.805|   ca|\n",
            "|7046327064|https://reno.crai...|reno / tahoe|https://reno.crai...| 1093|apartment|   720|   1|  1.0|           1|           1|              1|                0|                      0|              0|laundry in bldg|              null|https://images.cr...|1BD | 1BA | 720SQ...|39.4572|-119.776|   ca|\n",
            "|7049020738|https://reno.crai...|reno / tahoe|https://reno.crai...|  935|apartment|   661|   1|  1.0|           1|           1|              1|                0|                      0|              0|laundry on site|off-street parking|https://images.cr...|Tucked away in a ...|39.5118|-119.802|   ca|\n",
            "|7049041899|https://reno.crai...|reno / tahoe|https://reno.crai...| 1095|apartment|   708|   1|  1.0|           1|           1|              1|                0|                      0|              0|    w/d in unit|           carport|https://images.cr...|MOVE IN SPECIAL F...|39.4477|-119.771|   ca|\n",
            "|7049041451|https://reno.crai...|reno / tahoe|https://reno.crai...| 1525|apartment|  1053|   2|  2.0|           1|           1|              0|                0|                      0|              0|    w/d in unit|           carport|https://images.cr...|BRAND NEW APARTME...|39.6185|-119.672|   ca|\n",
            "|7049041434|https://reno.crai...|reno / tahoe|https://reno.crai...| 1295|    condo|   930|   2|  2.0|           0|           0|              0|                0|                      0|              0|    w/d in unit|           carport|https://images.cr...|6850 Sharlands Av...|39.5193|-119.897|   ca|\n",
            "|7049040060|https://reno.crai...|reno / tahoe|https://reno.crai...| 1086|apartment|   720|   1|  1.0|           0|           0|              1|                0|                      0|              0|           null|              null|https://images.cr...|In addition to at...|39.4572|-119.776|   ca|\n",
            "|7049039558|https://reno.crai...|reno / tahoe|https://reno.crai...| 2195|    house|  3115|   4|  3.0|           0|           0|              0|                0|                      0|              0|    w/d hookups|   attached garage|https://images.cr...|2741 Albazano Dri...|39.5987|-119.693|   ca|\n",
            "|7049038099|https://reno.crai...|reno / tahoe|https://reno.crai...| 1159|apartment|  1181|   3|  2.0|           1|           1|              1|                0|                      0|              0|    w/d in unit|           carport|https://images.cr...|Welcome Home to Z...|39.5384|-119.863|   ca|\n",
            "|7047575862|https://reno.crai...|reno / tahoe|https://reno.crai...| 1349|apartment|   766|   1|  1.0|           1|           1|              0|                0|                      0|              0|    w/d in unit|              null|https://images.cr...|Style, substance,...|39.5393| -119.75|   ca|\n",
            "|7049031207|https://reno.crai...|reno / tahoe|https://reno.crai...| 1449|apartment|   764|   1|  1.0|           1|           1|              1|                0|                      0|              0|    w/d in unit|off-street parking|https://images.cr...|Pre-leasing for 2...|39.5502|-119.718|   ca|\n",
            "|7049037378|https://reno.crai...|reno / tahoe|https://reno.crai...| 1295|apartment|   951|   2|  2.0|           0|           0|              0|                0|                      0|              0|    w/d in unit|off-street parking|https://images.cr...|200 Talus Way #22...|39.5617|-119.828|   ca|\n",
            "|7049031994|https://reno.crai...|reno / tahoe|https://reno.crai...|  982|apartment|   919|   2|  2.0|           1|           1|              0|                0|                      0|              0|    w/d in unit|           carport|https://images.cr...|Ridgeview by Vint...|39.5483|-119.796|   ca|\n",
            "|7049036811|https://reno.crai...|reno / tahoe|https://reno.crai...| 1895|apartment|  1193|   2|  2.0|           1|           1|              0|                0|                      0|              0|    w/d in unit|   attached garage|https://images.cr...|Inova14001 SUMMIT...|39.4015|-119.755|   ca|\n",
            "|7049034720|https://reno.crai...|reno / tahoe|https://reno.crai...| 1495|   duplex|  1192|   3|  1.0|           1|           1|              0|                0|                      0|              0|    w/d hookups|   detached garage|https://images.cr...|12001 Andes Stree...|39.6369| -119.88|   ca|\n",
            "|7047407034|https://reno.crai...|reno / tahoe|https://reno.crai...| 1899|    house|  1600|   3|  2.0|           0|           0|              0|                0|                      0|              0|    w/d in unit|   attached garage|https://images.cr...|3 YEAR NEW EXECUT...|39.5614|-119.695|   ca|\n",
            "+----------+--------------------+------------+--------------------+-----+---------+------+----+-----+------------+------------+---------------+-----------------+-----------------------+---------------+---------------+------------------+--------------------+--------------------+-------+--------+-----+\n",
            "only showing top 20 rows\n",
            "\n"
          ]
        }
      ]
    },
    {
      "cell_type": "markdown",
      "metadata": {
        "id": "_R9h5fyLXZwA"
      },
      "source": [
        "###Exploration des données"
      ]
    },
    {
      "cell_type": "code",
      "metadata": {
        "id": "iVO-Kkd4cyhB",
        "colab": {
          "base_uri": "https://localhost:8080/"
        },
        "outputId": "75786301-66d6-4ac3-f370-4263cf15be1a"
      },
      "source": [
        "#nombre de lignes\n",
        "data_len = df.count()\n",
        "data_len"
      ],
      "execution_count": 9,
      "outputs": [
        {
          "output_type": "execute_result",
          "data": {
            "text/plain": [
              "384977"
            ]
          },
          "metadata": {},
          "execution_count": 9
        }
      ]
    },
    {
      "cell_type": "code",
      "metadata": {
        "id": "3fkV--bnOEbf",
        "colab": {
          "base_uri": "https://localhost:8080/"
        },
        "outputId": "d6ffdbd2-a2fb-4b80-c0ad-91d042e558ea"
      },
      "source": [
        "df.summary().show()"
      ],
      "execution_count": 10,
      "outputs": [
        {
          "output_type": "stream",
          "name": "stdout",
          "text": [
            "+-------+-------------------+--------------------+--------------------+--------------------+-----------------+---------+------------------+------------------+------------------+------------------+-------------------+-------------------+------------------+-----------------------+-------------------+---------------+---------------+--------------------+--------------------+-----------------+------------------+------+\n",
            "|summary|                 id|                 url|              region|          region_url|            price|     type|            sqfeet|              beds|             baths|      cats_allowed|       dogs_allowed|    smoking_allowed| wheelchair_access|electric_vehicle_charge|    comes_furnished|laundry_options|parking_options|           image_url|         description|              lat|              long| state|\n",
            "+-------+-------------------+--------------------+--------------------+--------------------+-----------------+---------+------------------+------------------+------------------+------------------+-------------------+-------------------+------------------+-----------------------+-------------------+---------------+---------------+--------------------+--------------------+-----------------+------------------+------+\n",
            "|  count|             384977|              384977|              384977|              384977|           384977|   384977|            384977|            384977|            384977|            384977|             384977|             384977|            384977|                 384977|             384977|         305951|         244290|              384977|              384975|           383059|            383059|384977|\n",
            "|   mean|7.040982040467656E9|                null|                null|                null|8825.722318476168|     null| 1059.899565428584|1.9053449946360432|1.4807183286274246|0.7268901778547809| 0.7079176158575707| 0.7317709889162209|0.0821113988627892|   0.012870898780966136|0.04812755047704149|           null|           null|                null|             49957.0|37.23348675754524|-92.70063093005116|  null|\n",
            "| stddev|  8800376.305145055|                null|                null|                null|4462199.876539068|     null|19150.757244214397| 3.494571619825234|0.6180605193011444|0.4455573620351582|0.45472057586523484|0.44303805542244074|0.2745347206014767|    0.11271766386957066|0.21403599781322094|           null|           null|                null|   42132.67605236265|5.546171140040829|16.531980066425163|  null|\n",
            "|    min|         7003808130|https://abilene.c...|         SF bay area|https://abilene.c...|                0|apartment|                 0|                 0|               0.0|                 0|                  0|                  0|                 0|                      0|                  0|laundry in bldg|attached garage|https://images.cr...|!    Crest Gatewa...|         -43.5333|          -163.894|    ak|\n",
            "|    25%|         7035976626|                null|                null|                null|              806|     null|               750|                 1|               1.0|                 0|                  0|                  0|                 0|                      0|                  0|           null|           null|                null|               867.0|          33.4547|          -100.775|  null|\n",
            "|    50%|         7043319873|                null|                null|                null|             1037|     null|               949|                 2|               1.0|                 1|                  1|                  1|                 0|                      0|                  0|           null|           null|                null|             32114.0|          37.6468|          -87.7471|  null|\n",
            "|    75%|         7048427149|                null|                null|                null|             1395|     null|              1150|                 2|               2.0|                 1|                  1|                  1|                 0|                      0|                  0|           null|           null|                null|             70058.0|          41.1379|          -81.1796|  null|\n",
            "|    max|         7051292183|https://zanesvill...|zanesville / camb...|https://zanesvill...|       2768307249|townhouse|           8388607|              1100|              75.0|                 1|                  1|                  1|                 1|                      1|                  1|    w/d in unit|  valet parking|https://images.cr...|ð¥³Happy New Yea...|          102.036|           172.633|    wy|\n",
            "+-------+-------------------+--------------------+--------------------+--------------------+-----------------+---------+------------------+------------------+------------------+------------------+-------------------+-------------------+------------------+-----------------------+-------------------+---------------+---------------+--------------------+--------------------+-----------------+------------------+------+\n",
            "\n"
          ]
        }
      ]
    },
    {
      "cell_type": "markdown",
      "metadata": {
        "id": "9g-7rufgcEdw"
      },
      "source": [
        "#### Description des variables"
      ]
    },
    {
      "cell_type": "markdown",
      "metadata": {
        "id": "hHxkA33XcML2"
      },
      "source": [
        "On dispose des variables suivantes : \n",
        "- *id* (long) : identifiant du logement\n",
        "- *url* (string) : url de l'annonce\n",
        "- *region* (string) : région dans laquelle se situe le logement\n",
        "- *region_rul* (string) : url de la région\n",
        "- *type* (string) : type du logement\n",
        "- ***price* (long) : prix du logement (variable à expliquer)**\n",
        "- *sqfeet* (integer) : superficie du logement en pieds carrés\n",
        "- *beds* (integer) : nombre de lits\n",
        "- *baths* (integer) : nombre de salle de bains\n",
        "- *cats_allowed* (integer 0-1) : les chats sont-il acceptés dans le logement ?\n",
        "- *dosg_allowed* (integer 0-1) : les chiens sont-ils acceptés dans le logement ?\n",
        "- *smoking_allowed* (integer 0-1) : peut-on fumer dans le logement ?\n",
        "- *wheelchair_access* (integer 0-1) : peut-on accéder au logement en fauteuil roulant ?\n",
        "- *electric_vehicle_charge* (integer 0-1) : peut-on charger notre véhicule électrique ?\n",
        "- *comes_furnished* (integer 0-1) : le logement est-il meublé ?\n",
        "- *laundry_options* (string) : les options pour la lessive\n",
        "- *parking_options* (string) : les options pour le parking\n",
        "- *image_url* (string) : url de la photo du logement\n",
        "- *description* (string) : description du logement\n",
        "- *lat* (double) : latitude\n",
        "- *long* (double) : longitude\n",
        "- *state* (string) : état des Etats-Unis dans lequel se situe le logement\n",
        "\n"
      ]
    },
    {
      "cell_type": "markdown",
      "metadata": {
        "id": "nqtZXdXi_1sH"
      },
      "source": [
        "#### Valeurs manquantes"
      ]
    },
    {
      "cell_type": "markdown",
      "metadata": {
        "id": "18I3rey3RBC3"
      },
      "source": [
        "On peut déjà remarquer que certaines colonnes (*laundry_options*, *parking_options*, *lat* et *long*) présentent des valeurs manquantes. Dans un premier temps nous allons ignorer ce problème."
      ]
    },
    {
      "cell_type": "code",
      "metadata": {
        "id": "wfn3PG8cc36v",
        "colab": {
          "base_uri": "https://localhost:8080/"
        },
        "outputId": "d6e6917b-af75-430f-86d6-13b67088b06d"
      },
      "source": [
        "from pyspark.sql.functions import col,isnan, when, count\n",
        "# Nombre de valeurs manquantes pour chaque variable\n",
        "df_missing = df.select([count(when(isnan(c) | col(c).isNull(), c)).alias(c) for c in df.columns])\n",
        "df_missing.show()"
      ],
      "execution_count": 11,
      "outputs": [
        {
          "output_type": "stream",
          "name": "stdout",
          "text": [
            "+---+---+------+----------+-----+----+------+----+-----+------------+------------+---------------+-----------------+-----------------------+---------------+---------------+---------------+---------+-----------+----+----+-----+\n",
            "| id|url|region|region_url|price|type|sqfeet|beds|baths|cats_allowed|dogs_allowed|smoking_allowed|wheelchair_access|electric_vehicle_charge|comes_furnished|laundry_options|parking_options|image_url|description| lat|long|state|\n",
            "+---+---+------+----------+-----+----+------+----+-----+------------+------------+---------------+-----------------+-----------------------+---------------+---------------+---------------+---------+-----------+----+----+-----+\n",
            "|  0|  0|     0|         0|    0|   0|     0|   0|    0|           0|           0|              0|                0|                      0|              0|          79026|         140687|        0|          2|1918|1918|    0|\n",
            "+---+---+------+----------+-----+----+------+----+-----+------------+------------+---------------+-----------------+-----------------------+---------------+---------------+---------------+---------+-----------+----+----+-----+\n",
            "\n"
          ]
        }
      ]
    },
    {
      "cell_type": "code",
      "metadata": {
        "id": "YBJyr7GVj9jj",
        "colab": {
          "base_uri": "https://localhost:8080/"
        },
        "outputId": "67834d75-4526-4645-ddb9-1bc1a419e851"
      },
      "source": [
        "# Taux de valeurs manquantes pour chaque variable\n",
        "df_missing_rate = df_missing.select([(col(c)/data_len).alias(c) for c in df.columns])\n",
        "df_missing_rate.show()"
      ],
      "execution_count": 12,
      "outputs": [
        {
          "output_type": "stream",
          "name": "stdout",
          "text": [
            "+---+---+------+----------+-----+----+------+----+-----+------------+------------+---------------+-----------------+-----------------------+---------------+-------------------+-----------------+---------+--------------------+--------------------+--------------------+-----+\n",
            "| id|url|region|region_url|price|type|sqfeet|beds|baths|cats_allowed|dogs_allowed|smoking_allowed|wheelchair_access|electric_vehicle_charge|comes_furnished|    laundry_options|  parking_options|image_url|         description|                 lat|                long|state|\n",
            "+---+---+------+----------+-----+----+------+----+-----+------------+------------+---------------+-----------------+-----------------------+---------------+-------------------+-----------------+---------+--------------------+--------------------+--------------------+-----+\n",
            "|0.0|0.0|   0.0|       0.0|  0.0| 0.0|   0.0| 0.0|  0.0|         0.0|         0.0|            0.0|              0.0|                    0.0|            0.0|0.20527460082030874|0.365442610857272|      0.0|5.195115552357673E-6|0.004982115814711008|0.004982115814711008|  0.0|\n",
            "+---+---+------+----------+-----+----+------+----+-----+------------+------------+---------------+-----------------+-----------------------+---------------+-------------------+-----------------+---------+--------------------+--------------------+--------------------+-----+\n",
            "\n"
          ]
        }
      ]
    },
    {
      "cell_type": "markdown",
      "metadata": {
        "id": "mSZ0UGLh_7wj"
      },
      "source": [
        "#### Valeurs distinctes"
      ]
    },
    {
      "cell_type": "markdown",
      "metadata": {
        "id": "THRJ0ThgVvW0"
      },
      "source": [
        "On peut aussi dénombrer le nombre de valeurs distinctes pour chaque variable :"
      ]
    },
    {
      "cell_type": "code",
      "metadata": {
        "id": "uGeVRezRVVdH",
        "colab": {
          "base_uri": "https://localhost:8080/"
        },
        "outputId": "c5406032-b5b7-4247-9b26-e2019c45241b"
      },
      "source": [
        "from pyspark.sql.functions import col, countDistinct\n",
        "# Nombre de valeurs distinctes pour chaque variable\n",
        "df.agg(*(countDistinct(col(c)).alias(c) for c in df.columns)).show()"
      ],
      "execution_count": 13,
      "outputs": [
        {
          "output_type": "stream",
          "name": "stdout",
          "text": [
            "+------+------+------+----------+-----+----+------+----+-----+------------+------------+---------------+-----------------+-----------------------+---------------+---------------+---------------+---------+-----------+-----+-----+-----+\n",
            "|    id|   url|region|region_url|price|type|sqfeet|beds|baths|cats_allowed|dogs_allowed|smoking_allowed|wheelchair_access|electric_vehicle_charge|comes_furnished|laundry_options|parking_options|image_url|description|  lat| long|state|\n",
            "+------+------+------+----------+-----+----+------+----+-----+------------+------------+---------------+-----------------+-----------------------+---------------+---------------+---------------+---------+-----------+-----+-----+-----+\n",
            "|384977|384977|   404|       413| 3961|  12|  3277|  11|   20|           2|           2|              2|                2|                      2|              2|              5|              7|   181068|     280836|56772|54035|   51|\n",
            "+------+------+------+----------+-----+----+------+----+-----+------------+------------+---------------+-----------------+-----------------------+---------------+---------------+---------------+---------+-----------+-----+-----+-----+\n",
            "\n"
          ]
        }
      ]
    },
    {
      "cell_type": "markdown",
      "metadata": {
        "id": "yduKhPbMQEpc"
      },
      "source": [
        "## Stratégie 1"
      ]
    },
    {
      "cell_type": "markdown",
      "metadata": {
        "id": "e-KYXUrtV--r"
      },
      "source": [
        "Cette première stratégie consistera à appliquer le modèle de régression sur les données d'origine encodées, sans se préoccuper des valeurs manquantes ou aberrantes."
      ]
    },
    {
      "cell_type": "markdown",
      "metadata": {
        "id": "VWZRWCVBmJd_"
      },
      "source": [
        "### Variables trivialement non-pertinentes"
      ]
    },
    {
      "cell_type": "markdown",
      "metadata": {
        "id": "er_4NusiRuVG"
      },
      "source": [
        "On se permettra de s'affranchir des variables *id*, *url*, *image_url* et *description* présentant un très grand nombre de valeurs distinctes afin d'alléger les calculs. Intuitivement ce choix fait sens car a priori ces données ne devraient pas influer sur le prix du logement. L'url de chaque région est caractérisée par l'attribut région, on peut donc également retirer cette colonne redondante.\n"
      ]
    },
    {
      "cell_type": "code",
      "metadata": {
        "id": "zeOWKVDkQI0T"
      },
      "source": [
        "df1 = df.drop('id', 'url', 'image_url', 'description', 'region_url')"
      ],
      "execution_count": 14,
      "outputs": []
    },
    {
      "cell_type": "code",
      "metadata": {
        "id": "7bDiV393ayM0",
        "colab": {
          "base_uri": "https://localhost:8080/"
        },
        "outputId": "502c89ac-7927-4d77-ec1b-18b22e8f37e3"
      },
      "source": [
        "df1.show()"
      ],
      "execution_count": 15,
      "outputs": [
        {
          "output_type": "stream",
          "name": "stdout",
          "text": [
            "+------------+-----+---------+------+----+-----+------------+------------+---------------+-----------------+-----------------------+---------------+---------------+------------------+-------+--------+-----+\n",
            "|      region|price|     type|sqfeet|beds|baths|cats_allowed|dogs_allowed|smoking_allowed|wheelchair_access|electric_vehicle_charge|comes_furnished|laundry_options|   parking_options|    lat|    long|state|\n",
            "+------------+-----+---------+------+----+-----+------------+------------+---------------+-----------------+-----------------------+---------------+---------------+------------------+-------+--------+-----+\n",
            "|reno / tahoe| 1148|apartment|  1078|   3|  2.0|           1|           1|              0|                0|                      0|              0|    w/d in unit|           carport|39.5483|-119.796|   ca|\n",
            "|reno / tahoe| 1200|    condo|  1001|   2|  2.0|           0|           0|              0|                0|                      0|              0|    w/d hookups|           carport|39.5026|-119.789|   ca|\n",
            "|reno / tahoe| 1813|apartment|  1683|   2|  2.0|           1|           1|              1|                0|                      0|              0|    w/d in unit|   attached garage|39.6269|-119.708|   ca|\n",
            "|reno / tahoe| 1095|apartment|   708|   1|  1.0|           1|           1|              1|                0|                      0|              0|    w/d in unit|           carport|39.4477|-119.771|   ca|\n",
            "|reno / tahoe|  289|apartment|   250|   0|  1.0|           1|           1|              1|                1|                      0|              1|laundry on site|              null|39.5357|-119.805|   ca|\n",
            "|reno / tahoe| 1093|apartment|   720|   1|  1.0|           1|           1|              1|                0|                      0|              0|laundry in bldg|              null|39.4572|-119.776|   ca|\n",
            "|reno / tahoe|  935|apartment|   661|   1|  1.0|           1|           1|              1|                0|                      0|              0|laundry on site|off-street parking|39.5118|-119.802|   ca|\n",
            "|reno / tahoe| 1095|apartment|   708|   1|  1.0|           1|           1|              1|                0|                      0|              0|    w/d in unit|           carport|39.4477|-119.771|   ca|\n",
            "|reno / tahoe| 1525|apartment|  1053|   2|  2.0|           1|           1|              0|                0|                      0|              0|    w/d in unit|           carport|39.6185|-119.672|   ca|\n",
            "|reno / tahoe| 1295|    condo|   930|   2|  2.0|           0|           0|              0|                0|                      0|              0|    w/d in unit|           carport|39.5193|-119.897|   ca|\n",
            "|reno / tahoe| 1086|apartment|   720|   1|  1.0|           0|           0|              1|                0|                      0|              0|           null|              null|39.4572|-119.776|   ca|\n",
            "|reno / tahoe| 2195|    house|  3115|   4|  3.0|           0|           0|              0|                0|                      0|              0|    w/d hookups|   attached garage|39.5987|-119.693|   ca|\n",
            "|reno / tahoe| 1159|apartment|  1181|   3|  2.0|           1|           1|              1|                0|                      0|              0|    w/d in unit|           carport|39.5384|-119.863|   ca|\n",
            "|reno / tahoe| 1349|apartment|   766|   1|  1.0|           1|           1|              0|                0|                      0|              0|    w/d in unit|              null|39.5393| -119.75|   ca|\n",
            "|reno / tahoe| 1449|apartment|   764|   1|  1.0|           1|           1|              1|                0|                      0|              0|    w/d in unit|off-street parking|39.5502|-119.718|   ca|\n",
            "|reno / tahoe| 1295|apartment|   951|   2|  2.0|           0|           0|              0|                0|                      0|              0|    w/d in unit|off-street parking|39.5617|-119.828|   ca|\n",
            "|reno / tahoe|  982|apartment|   919|   2|  2.0|           1|           1|              0|                0|                      0|              0|    w/d in unit|           carport|39.5483|-119.796|   ca|\n",
            "|reno / tahoe| 1895|apartment|  1193|   2|  2.0|           1|           1|              0|                0|                      0|              0|    w/d in unit|   attached garage|39.4015|-119.755|   ca|\n",
            "|reno / tahoe| 1495|   duplex|  1192|   3|  1.0|           1|           1|              0|                0|                      0|              0|    w/d hookups|   detached garage|39.6369| -119.88|   ca|\n",
            "|reno / tahoe| 1899|    house|  1600|   3|  2.0|           0|           0|              0|                0|                      0|              0|    w/d in unit|   attached garage|39.5614|-119.695|   ca|\n",
            "+------------+-----+---------+------+----+-----+------------+------------+---------------+-----------------+-----------------------+---------------+---------------+------------------+-------+--------+-----+\n",
            "only showing top 20 rows\n",
            "\n"
          ]
        }
      ]
    },
    {
      "cell_type": "markdown",
      "metadata": {
        "id": "SDt-WPm9mUjO"
      },
      "source": [
        "### Encodage des variables"
      ]
    },
    {
      "cell_type": "markdown",
      "metadata": {
        "id": "9VLcNYeUo6KH"
      },
      "source": [
        "Commençons par avoir un aperçu du type des données pour chaque variable :"
      ]
    },
    {
      "cell_type": "code",
      "metadata": {
        "id": "uFyPpKMSll3A",
        "colab": {
          "base_uri": "https://localhost:8080/"
        },
        "outputId": "b7e8520f-ead8-49ea-f2f5-2987bcc3c4f0"
      },
      "source": [
        "df1.dtypes"
      ],
      "execution_count": 16,
      "outputs": [
        {
          "output_type": "execute_result",
          "data": {
            "text/plain": [
              "[('region', 'string'),\n",
              " ('price', 'bigint'),\n",
              " ('type', 'string'),\n",
              " ('sqfeet', 'int'),\n",
              " ('beds', 'int'),\n",
              " ('baths', 'double'),\n",
              " ('cats_allowed', 'int'),\n",
              " ('dogs_allowed', 'int'),\n",
              " ('smoking_allowed', 'int'),\n",
              " ('wheelchair_access', 'int'),\n",
              " ('electric_vehicle_charge', 'int'),\n",
              " ('comes_furnished', 'int'),\n",
              " ('laundry_options', 'string'),\n",
              " ('parking_options', 'string'),\n",
              " ('lat', 'double'),\n",
              " ('long', 'double'),\n",
              " ('state', 'string')]"
            ]
          },
          "metadata": {},
          "execution_count": 16
        }
      ]
    },
    {
      "cell_type": "markdown",
      "metadata": {
        "id": "TOZjui1tqSDn"
      },
      "source": [
        "On définit nos variables continues, puis les variables qualitatives par disjonction :"
      ]
    },
    {
      "cell_type": "code",
      "metadata": {
        "id": "NyxFqfXrplUy"
      },
      "source": [
        "# Variables continues\n",
        "cont_vars = ['price','sqfeet','beds','baths','lat','long']\n",
        "# Variables qualitatives\n",
        "qual_vars = list(set(df1.columns)^set(cont_vars))"
      ],
      "execution_count": 17,
      "outputs": []
    },
    {
      "cell_type": "markdown",
      "metadata": {
        "id": "03KZTJfcvDcy"
      },
      "source": [
        "Il faut ensuite choisir le nombre maximal de catégories *maxCategories* pour l'encodage de manière judicieuse. En effet, si le nombre de valeurs distinctes pour une variable est inférieur à ce paramètre, celle-ci variable sera considérée comme qualitative."
      ]
    },
    {
      "cell_type": "code",
      "metadata": {
        "id": "BBPaE2ZIuhmx",
        "colab": {
          "base_uri": "https://localhost:8080/"
        },
        "outputId": "87751fa5-a556-45b4-ced8-10b02b62898e"
      },
      "source": [
        "# Nombres de valeurs distinctes pour les variables continues\n",
        "distinctCont = df1.agg(*(countDistinct(col(c)).alias(c) for c in cont_vars))\n",
        "distinctCont.show()"
      ],
      "execution_count": 18,
      "outputs": [
        {
          "output_type": "stream",
          "name": "stdout",
          "text": [
            "+-----+------+----+-----+-----+-----+\n",
            "|price|sqfeet|beds|baths|  lat| long|\n",
            "+-----+------+----+-----+-----+-----+\n",
            "| 3961|  3277|  11|   20|56772|54035|\n",
            "+-----+------+----+-----+-----+-----+\n",
            "\n"
          ]
        }
      ]
    },
    {
      "cell_type": "code",
      "metadata": {
        "id": "G7sLGPKluwjK",
        "colab": {
          "base_uri": "https://localhost:8080/"
        },
        "outputId": "59f28fe0-3571-4e81-a713-9739971cbe57"
      },
      "source": [
        "# Nombres de valeurs distinctes pour les variables qualitatives\n",
        "distinctQual = df1.agg(*(countDistinct(col(c)).alias(c) for c in qual_vars))\n",
        "distinctQual.show()"
      ],
      "execution_count": 19,
      "outputs": [
        {
          "output_type": "stream",
          "name": "stdout",
          "text": [
            "+---------------+-----+------------+-----------------------+------------+-----------------+---------------+---------------+----+------+---------------+\n",
            "|parking_options|state|cats_allowed|electric_vehicle_charge|dogs_allowed|wheelchair_access|smoking_allowed|comes_furnished|type|region|laundry_options|\n",
            "+---------------+-----+------------+-----------------------+------------+-----------------+---------------+---------------+----+------+---------------+\n",
            "|              7|   51|           2|                      2|           2|                2|              2|              2|  12|   404|              5|\n",
            "+---------------+-----+------------+-----------------------+------------+-----------------+---------------+---------------+----+------+---------------+\n",
            "\n"
          ]
        }
      ]
    },
    {
      "cell_type": "markdown",
      "metadata": {
        "id": "SWuOjSu86dh8"
      },
      "source": [
        "Il suffit de choisir le nombre minimal de valeurs distinctes parmi les variables continues auquel on soustrait 1 pour ne pas avoir de problème. Ici, 10 convient donc."
      ]
    },
    {
      "cell_type": "code",
      "metadata": {
        "id": "2i7ji8ORwl9M",
        "colab": {
          "base_uri": "https://localhost:8080/"
        },
        "outputId": "14796163-ef53-465d-84d5-2d8572bc287b"
      },
      "source": [
        "import numpy as np\n",
        "maxCategories = np.min(distinctCont.collect()) - 1\n",
        "maxCategories"
      ],
      "execution_count": 20,
      "outputs": [
        {
          "output_type": "execute_result",
          "data": {
            "text/plain": [
              "10"
            ]
          },
          "metadata": {},
          "execution_count": 20
        }
      ]
    },
    {
      "cell_type": "markdown",
      "metadata": {
        "id": "nIqgxT9eDThE"
      },
      "source": [
        "### Arbre de décision"
      ]
    },
    {
      "cell_type": "markdown",
      "metadata": {
        "id": "EYxBIqk_h5h9"
      },
      "source": [
        "#### Régression"
      ]
    },
    {
      "cell_type": "code",
      "metadata": {
        "id": "swrJtR1iv-zk"
      },
      "source": [
        "from pyspark.sql.types import StructType, StructField, DoubleType, IntegerType, StringType\n",
        "from pyspark.ml.feature import VectorAssembler\n",
        "from pyspark.sql import SQLContext\n",
        "from pyspark.ml.feature import StringIndexer\n",
        "from pyspark.ml import Pipeline\n",
        "from pyspark.ml.feature import MinMaxScaler\n",
        "\n",
        "\n",
        "def get_features(s):\n",
        "  if 'Index' in s:\n",
        "    return True\n",
        "  elif 'scaled' in s:\n",
        "    return True\n",
        "  else:\n",
        "    return False\n",
        "\n",
        "\n",
        "#string_index = StringIndexer().setInputCol(\"type\").setOutputCol('typeIndex')\n",
        "#md = string_index.fit(df1).transform(df1)\n",
        "pipeline=Pipeline(stages=[StringIndexer().setInputCol(c[0]).setOutputCol(c[0]+'Index') for c in df1.dtypes if c[1]=='string']+\\\n",
        "                  [VectorAssembler(inputCols=[c[0] for c in df1.dtypes if c[1] == 'double'] , outputCol='features').setHandleInvalid(\"skip\")])\n",
        "                  \n",
        "\n",
        "model = pipeline.fit(df1).transform(df1)\n",
        "model.dtypes\n",
        "dataframe1 = model.select(\"features\",\"price\")"
      ],
      "execution_count": 21,
      "outputs": []
    },
    {
      "cell_type": "code",
      "metadata": {
        "id": "-XX3dtX7T1kd",
        "colab": {
          "base_uri": "https://localhost:8080/"
        },
        "outputId": "cfdd7d2b-8aa3-4dbc-a825-2addc08b3d20"
      },
      "source": [
        "dataframe1.show()"
      ],
      "execution_count": 22,
      "outputs": [
        {
          "output_type": "stream",
          "name": "stdout",
          "text": [
            "+--------------------+-----+\n",
            "|            features|price|\n",
            "+--------------------+-----+\n",
            "|[2.0,39.5483,-119...| 1148|\n",
            "|[2.0,39.5026,-119...| 1200|\n",
            "|[2.0,39.6269,-119...| 1813|\n",
            "|[1.0,39.4477,-119...| 1095|\n",
            "|[1.0,39.5357,-119...|  289|\n",
            "|[1.0,39.4572,-119...| 1093|\n",
            "|[1.0,39.5118,-119...|  935|\n",
            "|[1.0,39.4477,-119...| 1095|\n",
            "|[2.0,39.6185,-119...| 1525|\n",
            "|[2.0,39.5193,-119...| 1295|\n",
            "|[1.0,39.4572,-119...| 1086|\n",
            "|[3.0,39.5987,-119...| 2195|\n",
            "|[2.0,39.5384,-119...| 1159|\n",
            "|[1.0,39.5393,-119...| 1349|\n",
            "|[1.0,39.5502,-119...| 1449|\n",
            "|[2.0,39.5617,-119...| 1295|\n",
            "|[2.0,39.5483,-119...|  982|\n",
            "|[2.0,39.4015,-119...| 1895|\n",
            "|[1.0,39.6369,-119...| 1495|\n",
            "|[2.0,39.5614,-119...| 1899|\n",
            "+--------------------+-----+\n",
            "only showing top 20 rows\n",
            "\n"
          ]
        }
      ]
    },
    {
      "cell_type": "code",
      "metadata": {
        "id": "kbI3ZD24Q-LA",
        "colab": {
          "base_uri": "https://localhost:8080/"
        },
        "outputId": "76f917bf-46a5-471e-fadc-937c13c1538a"
      },
      "source": [
        "dataframe1.count()"
      ],
      "execution_count": 23,
      "outputs": [
        {
          "output_type": "execute_result",
          "data": {
            "text/plain": [
              "383059"
            ]
          },
          "metadata": {},
          "execution_count": 23
        }
      ]
    },
    {
      "cell_type": "code",
      "metadata": {
        "id": "g101E6hWv-2g",
        "colab": {
          "base_uri": "https://localhost:8080/"
        },
        "outputId": "6241d387-6962-4667-f3b9-d661cce56c01"
      },
      "source": [
        "train, validation = dataframe1.randomSplit([0.9, 0.1])\n",
        "train.show()"
      ],
      "execution_count": 24,
      "outputs": [
        {
          "output_type": "stream",
          "name": "stdout",
          "text": [
            "+--------------------+-----+\n",
            "|            features|price|\n",
            "+--------------------+-----+\n",
            "|[0.0,-24.9558,-94...|  600|\n",
            "|[0.0,20.888,-156....| 2500|\n",
            "|[0.0,21.3575,-157...|  775|\n",
            "|[0.0,21.3576,-157...|  775|\n",
            "|[0.0,21.3577,-157...|  775|\n",
            "|[0.0,21.3581,-157...|  775|\n",
            "|[0.0,21.4063,-157...| 1900|\n",
            "|[0.0,26.1323,-98....|  650|\n",
            "|[0.0,26.1798,-98....|  765|\n",
            "|[0.0,26.2152,-81....| 2400|\n",
            "|[0.0,26.2746,-81....| 1818|\n",
            "|[0.0,26.3446,-80....| 1799|\n",
            "|[0.0,26.3464,-80....| 1300|\n",
            "|[0.0,26.3464,-80....| 1300|\n",
            "|[0.0,26.3464,-80....| 1300|\n",
            "|[0.0,26.3464,-80....| 1300|\n",
            "|[0.0,26.3464,-80....| 1695|\n",
            "|[0.0,26.3464,-80....| 1695|\n",
            "|[0.0,26.3464,-80....| 1725|\n",
            "|[0.0,26.3464,-80....| 1725|\n",
            "+--------------------+-----+\n",
            "only showing top 20 rows\n",
            "\n"
          ]
        }
      ]
    },
    {
      "cell_type": "code",
      "metadata": {
        "id": "mA43oA3Gv-7F"
      },
      "source": [
        "# from pyspark.ml.regression import LinearRegression\n",
        "# lr = LinearRegression(featuresCol = 'features', labelCol='price', maxIter=1000)\n",
        "from pyspark.ml.regression import DecisionTreeRegressor\n",
        "dtree = DecisionTreeRegressor(featuresCol = 'features', labelCol='price')"
      ],
      "execution_count": 25,
      "outputs": []
    },
    {
      "cell_type": "code",
      "metadata": {
        "id": "dKLyHfpJv--1"
      },
      "source": [
        "import pyspark.ml.tuning as tune\n",
        "import numpy as np \n",
        "# Create the parameter grid\n",
        "grid = tune.ParamGridBuilder()\n",
        "\n",
        "# Add the hyperparameters\n",
        "grid = grid.addGrid(dtree.maxBins, [16,32])\n",
        "grid = grid.addGrid(dtree.minInstancesPerNode, [100,1000])\n",
        "grid = grid.addGrid(dtree.maxDepth, [2,5,10])\n",
        "\n",
        "\n",
        "# Build the grid\n",
        "grid = grid.build()"
      ],
      "execution_count": 26,
      "outputs": []
    },
    {
      "cell_type": "code",
      "metadata": {
        "id": "DDCCFvcVv_Dd"
      },
      "source": [
        "from pyspark.ml.evaluation import RegressionEvaluator\n",
        "\n",
        "dtree_evaluator = RegressionEvaluator(predictionCol=\"prediction\", \\\n",
        "                 labelCol=\"price\",metricName=\"rmse\")\n",
        "# Create the CrossValidator (3 folds)\n",
        "cv = tune.CrossValidator(estimator=dtree,\n",
        "               estimatorParamMaps=grid,\n",
        "               evaluator=dtree_evaluator,\n",
        "               numFolds=3,\n",
        "               parallelism=8\n",
        "               )"
      ],
      "execution_count": 27,
      "outputs": []
    },
    {
      "cell_type": "code",
      "metadata": {
        "id": "OAXvD4ifv_o0"
      },
      "source": [
        "# Fit cross validation models\n",
        "models = cv.fit(train)\n",
        "\n",
        "# Extract the best model\n",
        "best_dtree = models.bestModel"
      ],
      "execution_count": null,
      "outputs": []
    },
    {
      "cell_type": "code",
      "metadata": {
        "id": "OHwE32aXwV_1"
      },
      "source": [
        "# Use the model to predict the test set\n",
        "validation_results_dtree = best_dtree.transform(validation)"
      ],
      "execution_count": null,
      "outputs": []
    },
    {
      "cell_type": "code",
      "metadata": {
        "id": "C-dJTIOshE4R"
      },
      "source": [
        "# Evaluate the predictions\n",
        "print('Best RMSE:',dtree_evaluator.evaluate(validation_results_dtree))"
      ],
      "execution_count": null,
      "outputs": []
    },
    {
      "cell_type": "code",
      "metadata": {
        "id": "0cU0N2tAgU-Z"
      },
      "source": [
        "# Best tree parameters\n",
        "models.getEstimatorParamMaps()[np.argmin(models.avgMetrics)]"
      ],
      "execution_count": null,
      "outputs": []
    },
    {
      "cell_type": "markdown",
      "metadata": {
        "id": "pHc1qqK1hR1b"
      },
      "source": [
        "On constante qu'on obtient une RMSE très élevée. Cela est peut-être dû à la disparité entre les prix des logements."
      ]
    },
    {
      "cell_type": "markdown",
      "metadata": {
        "id": "TESYXPEZhymL"
      },
      "source": [
        "#### Architecture de l'arbre\n"
      ]
    },
    {
      "cell_type": "code",
      "metadata": {
        "id": "Z1C07LSehjYc",
        "colab": {
          "base_uri": "https://localhost:8080/"
        },
        "outputId": "0447060d-9433-440c-a833-7089f7696375"
      },
      "source": [
        "print(best_dtree.toDebugString)"
      ],
      "execution_count": 70,
      "outputs": [
        {
          "output_type": "stream",
          "name": "stdout",
          "text": [
            "DecisionTreeRegressionModel: uid=DecisionTreeRegressor_9fa6cac34045, depth=2, numNodes=7, numFeatures=3\n",
            "  If (feature 1 <= 33.48115)\n",
            "   If (feature 1 <= 32.2969)\n",
            "    Predict: 1616.9630811852567\n",
            "   Else (feature 1 > 32.2969)\n",
            "    Predict: 133938.90981445077\n",
            "  Else (feature 1 > 33.48115)\n",
            "   If (feature 2 <= -75.46350000000001)\n",
            "    Predict: 1539.8166683723946\n",
            "   Else (feature 2 > -75.46350000000001)\n",
            "    Predict: 3264.9900748737596\n",
            "\n"
          ]
        }
      ]
    },
    {
      "cell_type": "markdown",
      "metadata": {
        "id": "lkeo1Csyh-xe"
      },
      "source": [
        "#### Features importance"
      ]
    },
    {
      "cell_type": "code",
      "metadata": {
        "id": "yq5F5Ek7iBuR"
      },
      "source": [
        "best_featureImportances = best_dtree.featureImportances"
      ],
      "execution_count": 71,
      "outputs": []
    },
    {
      "cell_type": "code",
      "metadata": {
        "id": "tcvRC3UGiHMB",
        "colab": {
          "base_uri": "https://localhost:8080/"
        },
        "outputId": "04de5fb7-5432-42b7-96f4-da6083342b37"
      },
      "source": [
        "best_featureImportances"
      ],
      "execution_count": 72,
      "outputs": [
        {
          "output_type": "execute_result",
          "data": {
            "text/plain": [
              "SparseVector(3, {1: 0.9998, 2: 0.0002})"
            ]
          },
          "metadata": {},
          "execution_count": 72
        }
      ]
    },
    {
      "cell_type": "code",
      "metadata": {
        "id": "YjuSbpoRr9PV",
        "colab": {
          "base_uri": "https://localhost:8080/"
        },
        "outputId": "c778a774-ccf5-4ae3-da4d-0b2b49104c65"
      },
      "source": [
        "best_featureImportances"
      ],
      "execution_count": 73,
      "outputs": [
        {
          "output_type": "execute_result",
          "data": {
            "text/plain": [
              "SparseVector(3, {1: 0.9998, 2: 0.0002})"
            ]
          },
          "metadata": {},
          "execution_count": 73
        }
      ]
    },
    {
      "cell_type": "markdown",
      "metadata": {
        "id": "phlqLyqOlmhG"
      },
      "source": [
        "## Stratégie 2"
      ]
    },
    {
      "cell_type": "markdown",
      "metadata": {
        "id": "p4usI1iY7K4s"
      },
      "source": [
        "Pour cette stratégie nous allons traiter les données de manière plus approfondie, en essayant d'imputer les valeurs manquantes, identifier les valeurs aberrantes et nous restreindre aux attributs les plus pertinents."
      ]
    },
    {
      "cell_type": "markdown",
      "metadata": {
        "id": "GFafXzfJ8s3b"
      },
      "source": [
        "### Attributs non pertinents"
      ]
    },
    {
      "cell_type": "markdown",
      "metadata": {
        "id": "lBlmQjuB8wIS"
      },
      "source": [
        "On s'affranchit déjà des attributs que nous avons ignorés dans la stratégie 1 : *id*, *url*, *image_url*, *description* et *region_url*.  \n",
        "On peut aussi supprimer les variables *long* et *lat* car elles sont redondantes avec la variable *region* qui est bien plus pertinente. Autre argument : ces deux variables présentent un grand nombre de valeurs distinctes (respectivement 56772 et 54035) et quelques valeurs manquantes (1918 pour les deux)."
      ]
    },
    {
      "cell_type": "code",
      "metadata": {
        "id": "8xOWzCWM-BLx"
      },
      "source": [
        "df2 = df.drop('id', 'url', 'image_url', 'description', 'region_url', 'lat', 'long')"
      ],
      "execution_count": 74,
      "outputs": []
    },
    {
      "cell_type": "markdown",
      "metadata": {
        "id": "DyUksH0j8PZh"
      },
      "source": [
        "### Valeurs manquantes"
      ]
    },
    {
      "cell_type": "code",
      "metadata": {
        "id": "z7qgo3qbALS2",
        "colab": {
          "base_uri": "https://localhost:8080/"
        },
        "outputId": "5894cd13-1c9d-4f7e-97c3-9f4988224235"
      },
      "source": [
        "# Nombre de valeurs manquantes pour chaque variable\n",
        "df2_missing = df2.select([count(when(isnan(c) | col(c).isNull(), c)).alias(c) for c in df2.columns])\n",
        "df2_missing.show()"
      ],
      "execution_count": 75,
      "outputs": [
        {
          "output_type": "stream",
          "name": "stdout",
          "text": [
            "+------+-----+----+------+----+-----+------------+------------+---------------+-----------------+-----------------------+---------------+---------------+---------------+-----+\n",
            "|region|price|type|sqfeet|beds|baths|cats_allowed|dogs_allowed|smoking_allowed|wheelchair_access|electric_vehicle_charge|comes_furnished|laundry_options|parking_options|state|\n",
            "+------+-----+----+------+----+-----+------------+------------+---------------+-----------------+-----------------------+---------------+---------------+---------------+-----+\n",
            "|     0|    0|   0|     0|   0|    0|           0|           0|              0|                0|                      0|              0|          79026|         140687|    0|\n",
            "+------+-----+----+------+----+-----+------------+------------+---------------+-----------------+-----------------------+---------------+---------------+---------------+-----+\n",
            "\n"
          ]
        }
      ]
    },
    {
      "cell_type": "markdown",
      "metadata": {
        "id": "iQtdRMKXAT59"
      },
      "source": [
        "Seules les variables *laundry_options* et *parking_options* présentent des valeurs manquantes."
      ]
    },
    {
      "cell_type": "code",
      "metadata": {
        "id": "67Q8_q5lA3Y1",
        "colab": {
          "base_uri": "https://localhost:8080/"
        },
        "outputId": "3c8e1e46-2b92-43fd-fad3-386d4a8591b3"
      },
      "source": [
        "# Valeurs distinctes pour \"laundry_options\"\n",
        "df2.select(\"laundry_options\").distinct().show()"
      ],
      "execution_count": 76,
      "outputs": [
        {
          "output_type": "stream",
          "name": "stdout",
          "text": [
            "+------------------+\n",
            "|   laundry_options|\n",
            "+------------------+\n",
            "|   laundry in bldg|\n",
            "|no laundry on site|\n",
            "|              null|\n",
            "|       w/d hookups|\n",
            "|   laundry on site|\n",
            "|       w/d in unit|\n",
            "+------------------+\n",
            "\n"
          ]
        }
      ]
    },
    {
      "cell_type": "code",
      "metadata": {
        "id": "H14HG8U9ChCx",
        "colab": {
          "base_uri": "https://localhost:8080/"
        },
        "outputId": "b7bf009e-e84f-4674-e95f-7add1cf52692"
      },
      "source": [
        "# Valeurs distinctes pour \"parking_options\"\n",
        "df2.select(\"parking_options\").distinct().show()"
      ],
      "execution_count": 77,
      "outputs": [
        {
          "output_type": "stream",
          "name": "stdout",
          "text": [
            "+------------------+\n",
            "|   parking_options|\n",
            "+------------------+\n",
            "|           carport|\n",
            "|        no parking|\n",
            "|    street parking|\n",
            "|   attached garage|\n",
            "|              null|\n",
            "|   detached garage|\n",
            "|     valet parking|\n",
            "|off-street parking|\n",
            "+------------------+\n",
            "\n"
          ]
        }
      ]
    },
    {
      "cell_type": "markdown",
      "metadata": {
        "id": "AOSfzi-TBJCP"
      },
      "source": [
        "On fait l'hypothèse raisonnable qu'une absence de valeur correspond simplement à \"no laundry on site\" pour *laundry_options* et \"no parking\" pour *parking_options*."
      ]
    },
    {
      "cell_type": "code",
      "metadata": {
        "id": "Kr8CInt2Brf9"
      },
      "source": [
        "df2 = df2.fillna({'laundry_options': \"no laundry on site\", 'parking_options': \"no parking\"})"
      ],
      "execution_count": 78,
      "outputs": []
    },
    {
      "cell_type": "markdown",
      "metadata": {
        "id": "VCQZQDHqmI9Y"
      },
      "source": [
        "### Valeurs aberrantes"
      ]
    },
    {
      "cell_type": "markdown",
      "metadata": {
        "id": "zGZuH4obETcx"
      },
      "source": [
        "Commençons déjà par refédinir nos variables continues et qualitatives :"
      ]
    },
    {
      "cell_type": "code",
      "metadata": {
        "id": "oHMr_TWdElWP",
        "colab": {
          "base_uri": "https://localhost:8080/"
        },
        "outputId": "b0bcf6f1-7e4d-452d-dda3-58f733602b73"
      },
      "source": [
        "df2.dtypes"
      ],
      "execution_count": 79,
      "outputs": [
        {
          "output_type": "execute_result",
          "data": {
            "text/plain": [
              "[('region', 'string'),\n",
              " ('price', 'bigint'),\n",
              " ('type', 'string'),\n",
              " ('sqfeet', 'int'),\n",
              " ('beds', 'int'),\n",
              " ('baths', 'double'),\n",
              " ('cats_allowed', 'int'),\n",
              " ('dogs_allowed', 'int'),\n",
              " ('smoking_allowed', 'int'),\n",
              " ('wheelchair_access', 'int'),\n",
              " ('electric_vehicle_charge', 'int'),\n",
              " ('comes_furnished', 'int'),\n",
              " ('laundry_options', 'string'),\n",
              " ('parking_options', 'string'),\n",
              " ('state', 'string')]"
            ]
          },
          "metadata": {},
          "execution_count": 79
        }
      ]
    },
    {
      "cell_type": "code",
      "metadata": {
        "id": "sUU1pQE9SK6O"
      },
      "source": [
        "# Variables continues\n",
        "cont_vars2 = ['price','sqfeet','beds','baths']\n",
        "# Variables qualitatives\n",
        "qual_vars2 = list(set(df2.columns)^set(cont_vars2))"
      ],
      "execution_count": 80,
      "outputs": []
    },
    {
      "cell_type": "markdown",
      "metadata": {
        "id": "TMTwOhukGPEh"
      },
      "source": [
        "Intéressons-nous aux variables continues :"
      ]
    },
    {
      "cell_type": "code",
      "metadata": {
        "id": "7stw5w4bFiuA",
        "colab": {
          "base_uri": "https://localhost:8080/"
        },
        "outputId": "a2a4150c-50ce-49ca-fff3-d7f2953bd39e"
      },
      "source": [
        "df2.select(cont_vars2).summary().show()"
      ],
      "execution_count": 81,
      "outputs": [
        {
          "output_type": "stream",
          "name": "stdout",
          "text": [
            "+-------+-----------------+------------------+------------------+------------------+\n",
            "|summary|            price|            sqfeet|              beds|             baths|\n",
            "+-------+-----------------+------------------+------------------+------------------+\n",
            "|  count|           384977|            384977|            384977|            384977|\n",
            "|   mean|8825.722318476168| 1059.899565428584|1.9053449946360432|1.4807183286274246|\n",
            "| stddev|4462199.876539068|19150.757244214397| 3.494571619825234|0.6180605193011444|\n",
            "|    min|                0|                 0|                 0|               0.0|\n",
            "|    25%|              806|               750|                 1|               1.0|\n",
            "|    50%|             1037|               949|                 2|               1.0|\n",
            "|    75%|             1395|              1150|                 2|               2.0|\n",
            "|    max|       2768307249|           8388607|              1100|              75.0|\n",
            "+-------+-----------------+------------------+------------------+------------------+\n",
            "\n"
          ]
        }
      ]
    },
    {
      "cell_type": "markdown",
      "metadata": {
        "id": "eVkfYBleHGls"
      },
      "source": [
        "Investigons variable par variable."
      ]
    },
    {
      "cell_type": "markdown",
      "metadata": {
        "id": "zgv3Jq2cHRxo"
      },
      "source": [
        "#### *price*"
      ]
    },
    {
      "cell_type": "markdown",
      "metadata": {
        "id": "IhHdZ8OlHVZZ"
      },
      "source": [
        "On remarque immédiatement que l'écart-type est énorme : certains logements sont à des prix faramineux (avec un maximum à 2768307249) tandis que d'autres sont à 0. La moyenne s'en retrouve fortement biaisée (8826 environ), alors que le 3ème quartile n'est qu'à 1395, la médiane à 1037 et le 1er quartile à 806. \n",
        "Il semble donc adéquat de retirer les valeurs trop extrêmes.  \n",
        "Le choix des seuils se fera de manière arbitraire (mais avec un peu de bons sens tout de même) en l'absence d'informations supplémentaires."
      ]
    },
    {
      "cell_type": "code",
      "metadata": {
        "id": "DSiUU4CNJuzE",
        "colab": {
          "base_uri": "https://localhost:8080/"
        },
        "outputId": "c9eb0970-c78f-40d7-b416-cbbf36c131f2"
      },
      "source": [
        "# Nombre de logements pour lesquels le prix est supérieur à 5000\n",
        "df2.select('price').where(\"price > 5000\").count()"
      ],
      "execution_count": 82,
      "outputs": [
        {
          "output_type": "execute_result",
          "data": {
            "text/plain": [
              "951"
            ]
          },
          "metadata": {},
          "execution_count": 82
        }
      ]
    },
    {
      "cell_type": "code",
      "metadata": {
        "id": "b-RawWMfKNRH",
        "colab": {
          "base_uri": "https://localhost:8080/"
        },
        "outputId": "39ad8bf7-9c7f-423b-907e-de23e9ff66dd"
      },
      "source": [
        "# Nombre de logements pour lesquels le prix est inférieur à 50\n",
        "df2.select('price').where(\"price < 50\").count()"
      ],
      "execution_count": 83,
      "outputs": [
        {
          "output_type": "execute_result",
          "data": {
            "text/plain": [
              "2147"
            ]
          },
          "metadata": {},
          "execution_count": 83
        }
      ]
    },
    {
      "cell_type": "code",
      "metadata": {
        "id": "HfsqiXZINVwL",
        "colab": {
          "base_uri": "https://localhost:8080/"
        },
        "outputId": "0e97d523-e53f-4184-832f-6424724aa0da"
      },
      "source": [
        "(951+2147)/data_len * 100"
      ],
      "execution_count": 84,
      "outputs": [
        {
          "output_type": "execute_result",
          "data": {
            "text/plain": [
              "0.8047233990602035"
            ]
          },
          "metadata": {},
          "execution_count": 84
        }
      ]
    },
    {
      "cell_type": "code",
      "metadata": {
        "id": "n_tSCScMKu7S",
        "colab": {
          "base_uri": "https://localhost:8080/"
        },
        "outputId": "2893ec89-5985-46ec-fe6b-efe16175e141"
      },
      "source": [
        "# On coupe aux seuils définis juste au-dessus\n",
        "temp = df2.withColumn('price', when((col('price')<50)|(col('price')>5000), None).otherwise(col('price')))\n",
        "temp.select('price').summary().show()"
      ],
      "execution_count": 85,
      "outputs": [
        {
          "output_type": "stream",
          "name": "stdout",
          "text": [
            "+-------+------------------+\n",
            "|summary|             price|\n",
            "+-------+------------------+\n",
            "|  count|            381879|\n",
            "|   mean|1177.6544533739745|\n",
            "| stddev| 549.5856456756536|\n",
            "|    min|                50|\n",
            "|    25%|               810|\n",
            "|    50%|              1040|\n",
            "|    75%|              1395|\n",
            "|    max|              5000|\n",
            "+-------+------------------+\n",
            "\n"
          ]
        }
      ]
    },
    {
      "cell_type": "code",
      "metadata": {
        "id": "CLi3t-Rq4Zv1",
        "colab": {
          "base_uri": "https://localhost:8080/"
        },
        "outputId": "312994d5-1b0e-4d16-97a4-062e2495b2be"
      },
      "source": [
        "temp.show()"
      ],
      "execution_count": 86,
      "outputs": [
        {
          "output_type": "stream",
          "name": "stdout",
          "text": [
            "+------------+-----+---------+------+----+-----+------------+------------+---------------+-----------------+-----------------------+---------------+------------------+------------------+-----+\n",
            "|      region|price|     type|sqfeet|beds|baths|cats_allowed|dogs_allowed|smoking_allowed|wheelchair_access|electric_vehicle_charge|comes_furnished|   laundry_options|   parking_options|state|\n",
            "+------------+-----+---------+------+----+-----+------------+------------+---------------+-----------------+-----------------------+---------------+------------------+------------------+-----+\n",
            "|reno / tahoe| 1148|apartment|  1078|   3|  2.0|           1|           1|              0|                0|                      0|              0|       w/d in unit|           carport|   ca|\n",
            "|reno / tahoe| 1200|    condo|  1001|   2|  2.0|           0|           0|              0|                0|                      0|              0|       w/d hookups|           carport|   ca|\n",
            "|reno / tahoe| 1813|apartment|  1683|   2|  2.0|           1|           1|              1|                0|                      0|              0|       w/d in unit|   attached garage|   ca|\n",
            "|reno / tahoe| 1095|apartment|   708|   1|  1.0|           1|           1|              1|                0|                      0|              0|       w/d in unit|           carport|   ca|\n",
            "|reno / tahoe|  289|apartment|   250|   0|  1.0|           1|           1|              1|                1|                      0|              1|   laundry on site|        no parking|   ca|\n",
            "|reno / tahoe| 1093|apartment|   720|   1|  1.0|           1|           1|              1|                0|                      0|              0|   laundry in bldg|        no parking|   ca|\n",
            "|reno / tahoe|  935|apartment|   661|   1|  1.0|           1|           1|              1|                0|                      0|              0|   laundry on site|off-street parking|   ca|\n",
            "|reno / tahoe| 1095|apartment|   708|   1|  1.0|           1|           1|              1|                0|                      0|              0|       w/d in unit|           carport|   ca|\n",
            "|reno / tahoe| 1525|apartment|  1053|   2|  2.0|           1|           1|              0|                0|                      0|              0|       w/d in unit|           carport|   ca|\n",
            "|reno / tahoe| 1295|    condo|   930|   2|  2.0|           0|           0|              0|                0|                      0|              0|       w/d in unit|           carport|   ca|\n",
            "|reno / tahoe| 1086|apartment|   720|   1|  1.0|           0|           0|              1|                0|                      0|              0|no laundry on site|        no parking|   ca|\n",
            "|reno / tahoe| 2195|    house|  3115|   4|  3.0|           0|           0|              0|                0|                      0|              0|       w/d hookups|   attached garage|   ca|\n",
            "|reno / tahoe| 1159|apartment|  1181|   3|  2.0|           1|           1|              1|                0|                      0|              0|       w/d in unit|           carport|   ca|\n",
            "|reno / tahoe| 1349|apartment|   766|   1|  1.0|           1|           1|              0|                0|                      0|              0|       w/d in unit|        no parking|   ca|\n",
            "|reno / tahoe| 1449|apartment|   764|   1|  1.0|           1|           1|              1|                0|                      0|              0|       w/d in unit|off-street parking|   ca|\n",
            "|reno / tahoe| 1295|apartment|   951|   2|  2.0|           0|           0|              0|                0|                      0|              0|       w/d in unit|off-street parking|   ca|\n",
            "|reno / tahoe|  982|apartment|   919|   2|  2.0|           1|           1|              0|                0|                      0|              0|       w/d in unit|           carport|   ca|\n",
            "|reno / tahoe| 1895|apartment|  1193|   2|  2.0|           1|           1|              0|                0|                      0|              0|       w/d in unit|   attached garage|   ca|\n",
            "|reno / tahoe| 1495|   duplex|  1192|   3|  1.0|           1|           1|              0|                0|                      0|              0|       w/d hookups|   detached garage|   ca|\n",
            "|reno / tahoe| 1899|    house|  1600|   3|  2.0|           0|           0|              0|                0|                      0|              0|       w/d in unit|   attached garage|   ca|\n",
            "+------------+-----+---------+------+----+-----+------------+------------+---------------+-----------------+-----------------------+---------------+------------------+------------------+-----+\n",
            "only showing top 20 rows\n",
            "\n"
          ]
        }
      ]
    },
    {
      "cell_type": "markdown",
      "metadata": {
        "id": "uM1WkEmDM8tK"
      },
      "source": [
        "Le troncage nous a permis de nous ramener à des valeurs moins extravagantes, et ce en ne perdant que 3098 données, soit 0,8% des données totales."
      ]
    },
    {
      "cell_type": "markdown",
      "metadata": {
        "id": "8Xp3OyZ8LxGf"
      },
      "source": [
        "#### *sqfeet*"
      ]
    },
    {
      "cell_type": "markdown",
      "metadata": {
        "id": "G7IxHuGdDizc"
      },
      "source": [
        "Comme pour *price*, l'écart-type est très élevé (même si c'est, relativement, dans une moindre mesure). Procédons de manière analogue en retirant les valeurs extrêmes.  \n",
        "Par exemple, on peut seuiller à 9m2 (97sqft) pour un logement habitable et 1000m2 (10764 sqft) pour un logement beaucoup plus grand qu'une villa."
      ]
    },
    {
      "cell_type": "code",
      "metadata": {
        "id": "GlE5d4a1PDIB",
        "colab": {
          "base_uri": "https://localhost:8080/"
        },
        "outputId": "37e15f73-186c-4d50-ed11-9ef237348c17"
      },
      "source": [
        "# Nombre de logements pour lesquels la surface est supérieure à sqft (m^2) \n",
        "df2.select('sqfeet').where(\"sqfeet > 10764\").count()"
      ],
      "execution_count": 87,
      "outputs": [
        {
          "output_type": "execute_result",
          "data": {
            "text/plain": [
              "74"
            ]
          },
          "metadata": {},
          "execution_count": 87
        }
      ]
    },
    {
      "cell_type": "code",
      "metadata": {
        "id": "DZ2LQD67PkVe",
        "colab": {
          "base_uri": "https://localhost:8080/"
        },
        "outputId": "5db1ac05-eb01-4570-d0f3-3640ff8df7d4"
      },
      "source": [
        "# Nombre de logements pour lesquels la surface est inférieure à 97 sqft (9 m^2) \n",
        "df2.select('sqfeet').where(\"sqfeet < 97\").count()"
      ],
      "execution_count": 88,
      "outputs": [
        {
          "output_type": "execute_result",
          "data": {
            "text/plain": [
              "973"
            ]
          },
          "metadata": {},
          "execution_count": 88
        }
      ]
    },
    {
      "cell_type": "code",
      "metadata": {
        "id": "RICAaXOCQ0DX",
        "colab": {
          "base_uri": "https://localhost:8080/"
        },
        "outputId": "1199d248-7f67-47d3-f78a-ca6512db4e0e"
      },
      "source": [
        "(74+973)/data_len * 100"
      ],
      "execution_count": 89,
      "outputs": [
        {
          "output_type": "execute_result",
          "data": {
            "text/plain": [
              "0.27196429916592424"
            ]
          },
          "metadata": {},
          "execution_count": 89
        }
      ]
    },
    {
      "cell_type": "code",
      "metadata": {
        "id": "C4TzTXsyQ9-Z",
        "colab": {
          "base_uri": "https://localhost:8080/"
        },
        "outputId": "15550c2d-b7e3-48a8-c01b-626a0c62f90f"
      },
      "source": [
        "# On coupe aux seuils définis juste au-dessus\n",
        "temp = temp.withColumn('sqfeet', when((col('sqfeet')<97)|(col('sqfeet')>10764), None).otherwise(col('sqfeet')))\n",
        "temp.select('sqfeet').summary().show()"
      ],
      "execution_count": 90,
      "outputs": [
        {
          "output_type": "stream",
          "name": "stdout",
          "text": [
            "+-------+-----------------+\n",
            "|summary|           sqfeet|\n",
            "+-------+-----------------+\n",
            "|  count|           383930|\n",
            "|   mean|996.8494777693851|\n",
            "| stddev|401.7042515406062|\n",
            "|    min|               97|\n",
            "|    25%|              750|\n",
            "|    50%|              950|\n",
            "|    75%|             1150|\n",
            "|    max|            10740|\n",
            "+-------+-----------------+\n",
            "\n"
          ]
        }
      ]
    },
    {
      "cell_type": "markdown",
      "metadata": {
        "id": "AiOGbG9PRneI"
      },
      "source": [
        "#### *beds*"
      ]
    },
    {
      "cell_type": "markdown",
      "metadata": {
        "id": "fd75RIGvT9MA"
      },
      "source": [
        "La variable *beds* présente une valeur maximale bien supérieure au reste ; or d'après ce qu'on a vu auparavant, cette variable ne présente que 11 valeurs distinctes.  \n",
        "Intéressons-nous à la répartition de ces valeurs :"
      ]
    },
    {
      "cell_type": "code",
      "metadata": {
        "id": "8nBopa9gT8MW",
        "colab": {
          "base_uri": "https://localhost:8080/"
        },
        "outputId": "cd88945f-1159-4f87-94c4-77a1f393250c"
      },
      "source": [
        "df2.select('beds').groupBy('beds').count().sort('beds').show()"
      ],
      "execution_count": 91,
      "outputs": [
        {
          "output_type": "stream",
          "name": "stdout",
          "text": [
            "+----+------+\n",
            "|beds| count|\n",
            "+----+------+\n",
            "|   0| 10978|\n",
            "|   1|117226|\n",
            "|   2|175513|\n",
            "|   3| 67037|\n",
            "|   4| 11575|\n",
            "|   5|  2324|\n",
            "|   6|   240|\n",
            "|   7|    49|\n",
            "|   8|    31|\n",
            "|1000|     2|\n",
            "|1100|     2|\n",
            "+----+------+\n",
            "\n"
          ]
        }
      ]
    },
    {
      "cell_type": "markdown",
      "metadata": {
        "id": "WgC01DngW5ln"
      },
      "source": [
        "On constate que 2 logements comptent 1000 lits et 2 autres en comptent 1100. Ces valeurs sont tout à fait loufoques, on s'en débarasse donc."
      ]
    },
    {
      "cell_type": "code",
      "metadata": {
        "id": "iTJte8BgRsf6",
        "colab": {
          "base_uri": "https://localhost:8080/"
        },
        "outputId": "cef781a6-2bef-4c23-96dd-401631e418e0"
      },
      "source": [
        "temp = temp.withColumn('beds', when(col('beds') > 200, None).otherwise(col('beds')))\n",
        "temp.select('beds').summary().show()"
      ],
      "execution_count": 92,
      "outputs": [
        {
          "output_type": "stream",
          "name": "stdout",
          "text": [
            "+-------+------------------+\n",
            "|summary|              beds|\n",
            "+-------+------------------+\n",
            "|  count|            384973|\n",
            "|   mean|1.8944549358006926|\n",
            "| stddev|0.8787611042200295|\n",
            "|    min|                 0|\n",
            "|    25%|                 1|\n",
            "|    50%|                 2|\n",
            "|    75%|                 2|\n",
            "|    max|                 8|\n",
            "+-------+------------------+\n",
            "\n"
          ]
        }
      ]
    },
    {
      "cell_type": "markdown",
      "metadata": {
        "id": "sZxEDlsTRl2I"
      },
      "source": [
        "#### *baths*"
      ]
    },
    {
      "cell_type": "markdown",
      "metadata": {
        "id": "j7Vl0BayYocD"
      },
      "source": [
        "De manière analogue à la variable *beds* :"
      ]
    },
    {
      "cell_type": "code",
      "metadata": {
        "id": "P-epo-ltYu6S",
        "colab": {
          "base_uri": "https://localhost:8080/"
        },
        "outputId": "0c98a8bc-c7f0-455d-f817-f489edfc129e"
      },
      "source": [
        "df2.select('baths').groupBy('baths').count().sort('baths').show()"
      ],
      "execution_count": 93,
      "outputs": [
        {
          "output_type": "stream",
          "name": "stdout",
          "text": [
            "+-----+------+\n",
            "|baths| count|\n",
            "+-----+------+\n",
            "|  0.0|  3107|\n",
            "|  1.0|198184|\n",
            "|  1.5| 27363|\n",
            "|  2.0|134649|\n",
            "|  2.5| 13162|\n",
            "|  3.0|  5549|\n",
            "|  3.5|  1007|\n",
            "|  4.0|  1495|\n",
            "|  4.5|   231|\n",
            "|  5.0|   131|\n",
            "|  5.5|    57|\n",
            "|  6.0|    26|\n",
            "|  6.5|     4|\n",
            "|  7.0|     4|\n",
            "|  7.5|     2|\n",
            "|  8.0|     1|\n",
            "|  8.5|     1|\n",
            "| 25.0|     1|\n",
            "| 35.0|     1|\n",
            "| 75.0|     2|\n",
            "+-----+------+\n",
            "\n"
          ]
        }
      ]
    },
    {
      "cell_type": "markdown",
      "metadata": {
        "id": "lLrhIUtQRmEm"
      },
      "source": [
        "Ici on constate que 2 logements comptent 75 salles de bain, 1 en compte 35 et 1 en compte 25. On pourrait aussi s'interroger sur la présence de nombres décimaux ; peut-être que 0.5 correspond à une petite salle d'eau avec seulement un lavabo.  \n",
        "On se débarasse encore des valeurs aberrantes :"
      ]
    },
    {
      "cell_type": "code",
      "metadata": {
        "id": "npAPfsMgZbYS",
        "colab": {
          "base_uri": "https://localhost:8080/"
        },
        "outputId": "3e973fe8-833c-49c5-8caa-b526c79750ce"
      },
      "source": [
        "temp = temp.withColumn('baths', when(col('baths') > 20, None).otherwise(col('baths')))\n",
        "temp.select('baths').summary().show()"
      ],
      "execution_count": 94,
      "outputs": [
        {
          "output_type": "stream",
          "name": "stdout",
          "text": [
            "+-------+------------------+\n",
            "|summary|             baths|\n",
            "+-------+------------------+\n",
            "|  count|            384973|\n",
            "|   mean|1.4801882209921216|\n",
            "| stddev| 0.591241668191792|\n",
            "|    min|               0.0|\n",
            "|    25%|               1.0|\n",
            "|    50%|               1.0|\n",
            "|    75%|               2.0|\n",
            "|    max|               8.5|\n",
            "+-------+------------------+\n",
            "\n"
          ]
        }
      ]
    },
    {
      "cell_type": "markdown",
      "metadata": {
        "id": "9N5u1JB6RmTD"
      },
      "source": [
        "#### Imputation"
      ]
    },
    {
      "cell_type": "markdown",
      "metadata": {
        "id": "ZVvSX53bZ0D4"
      },
      "source": [
        "Reste maintenant à imputer les valeurs aberrantes dont nous nous sommes débarassés précédemment. Une stratégie basique est de remplacer ces valeurs par la médiane (en général robuste aux valeurs aberrantes)."
      ]
    },
    {
      "cell_type": "code",
      "metadata": {
        "id": "N2xisVxVZxt_"
      },
      "source": [
        "from pyspark.ml.feature import Imputer\n",
        "\n",
        "imputer = Imputer(inputCols=cont_vars2,outputCols=cont_vars2)\n",
        "df2 = imputer.setStrategy(\"median\").setMissingValue(None).fit(temp).transform(temp)"
      ],
      "execution_count": 95,
      "outputs": []
    },
    {
      "cell_type": "code",
      "metadata": {
        "id": "Qt8okj3naVo1",
        "colab": {
          "base_uri": "https://localhost:8080/"
        },
        "outputId": "7c5cd92f-ded5-41c9-c7f9-2cc28a376234"
      },
      "source": [
        "df2.select(cont_vars2).summary().show()"
      ],
      "execution_count": 96,
      "outputs": [
        {
          "output_type": "stream",
          "name": "stdout",
          "text": [
            "+-------+------------------+------------------+------------------+------------------+\n",
            "|summary|             price|            sqfeet|              beds|             baths|\n",
            "+-------+------------------+------------------+------------------+------------------+\n",
            "|  count|            384977|            384977|            384977|            384977|\n",
            "|   mean|1176.5467157778257| 996.7220639155066| 1.951488010972084|1.4882538437361192|\n",
            "| stddev| 547.5080018827741|401.16505191394344|0.8166609185782979| 0.577649496422139|\n",
            "|    min|                50|                97|                 1|               1.0|\n",
            "|    25%|               815|               750|                 1|               1.0|\n",
            "|    50%|              1040|               950|                 2|               1.0|\n",
            "|    75%|              1395|              1150|                 2|               2.0|\n",
            "|    max|              5000|             10740|                 8|               8.5|\n",
            "+-------+------------------+------------------+------------------+------------------+\n",
            "\n"
          ]
        }
      ]
    },
    {
      "cell_type": "markdown",
      "metadata": {
        "id": "LQKIgrabRmg1"
      },
      "source": [
        "### Encodage des variables"
      ]
    },
    {
      "cell_type": "code",
      "metadata": {
        "id": "_sNjXXDcjySi"
      },
      "source": [
        "from pyspark.sql.types import StructType, StructField, DoubleType, IntegerType, StringType\n",
        "from pyspark.ml.feature import VectorAssembler\n",
        "from pyspark.sql import SQLContext\n",
        "from pyspark.ml.feature import StringIndexer\n",
        "from pyspark.ml import Pipeline\n",
        "from pyspark.ml.feature import MinMaxScaler\n",
        "\n",
        "\n",
        "pipeline=Pipeline(stages=[StringIndexer().setInputCol(c[0]).setOutputCol(c[0]+'Index') for c in df2.dtypes if c[1]=='string']+\\\n",
        "                  [VectorAssembler(inputCols=[c[0] for c in df2.dtypes if c[1] in ['int', 'double']], outputCol='features')])\n",
        "                  \n",
        "\n",
        "model2 = pipeline.fit(df2).transform(df2)\n",
        "model2.dtypes\n",
        "dataframe2 = model2.select(\"features\",\"price\")\n"
      ],
      "execution_count": 97,
      "outputs": []
    },
    {
      "cell_type": "code",
      "metadata": {
        "id": "-_iF-XSLNoIL",
        "colab": {
          "base_uri": "https://localhost:8080/"
        },
        "outputId": "2b9d2fd6-d92c-44fa-f104-15bc0755cbcc"
      },
      "source": [
        "dataframe2.show()"
      ],
      "execution_count": 98,
      "outputs": [
        {
          "output_type": "stream",
          "name": "stdout",
          "text": [
            "+--------------------+-----+\n",
            "|            features|price|\n",
            "+--------------------+-----+\n",
            "|[1078.0,3.0,2.0,1...| 1148|\n",
            "|(9,[0,1,2],[1001....| 1200|\n",
            "|[1683.0,2.0,2.0,1...| 1813|\n",
            "|[708.0,1.0,1.0,1....| 1095|\n",
            "|[250.0,2.0,1.0,1....|  289|\n",
            "|[720.0,1.0,1.0,1....| 1093|\n",
            "|[661.0,1.0,1.0,1....|  935|\n",
            "|[708.0,1.0,1.0,1....| 1095|\n",
            "|[1053.0,2.0,2.0,1...| 1525|\n",
            "|(9,[0,1,2],[930.0...| 1295|\n",
            "|(9,[0,1,2,5],[720...| 1086|\n",
            "|(9,[0,1,2],[3115....| 2195|\n",
            "|[1181.0,3.0,2.0,1...| 1159|\n",
            "|[766.0,1.0,1.0,1....| 1349|\n",
            "|[764.0,1.0,1.0,1....| 1449|\n",
            "|(9,[0,1,2],[951.0...| 1295|\n",
            "|[919.0,2.0,2.0,1....|  982|\n",
            "|[1193.0,2.0,2.0,1...| 1895|\n",
            "|[1192.0,3.0,1.0,1...| 1495|\n",
            "|(9,[0,1,2],[1600....| 1899|\n",
            "+--------------------+-----+\n",
            "only showing top 20 rows\n",
            "\n"
          ]
        }
      ]
    },
    {
      "cell_type": "code",
      "metadata": {
        "id": "4Yd__gwRjyfM",
        "colab": {
          "base_uri": "https://localhost:8080/"
        },
        "outputId": "686262fb-cf3c-443e-fd5b-dbad2c1f6fd7"
      },
      "source": [
        "train2, validation2 = dataframe2.randomSplit([0.8, 0.2])\n",
        "train2.count()\n"
      ],
      "execution_count": 99,
      "outputs": [
        {
          "output_type": "execute_result",
          "data": {
            "text/plain": [
              "307909"
            ]
          },
          "metadata": {},
          "execution_count": 99
        }
      ]
    },
    {
      "cell_type": "markdown",
      "metadata": {
        "id": "mNIMxhZ5ixPV"
      },
      "source": [
        "### Arbre de décision"
      ]
    },
    {
      "cell_type": "markdown",
      "metadata": {
        "id": "Q-QR7jnIi1IV"
      },
      "source": [
        "#### Régression"
      ]
    },
    {
      "cell_type": "code",
      "metadata": {
        "id": "I6n7JYELUV1r"
      },
      "source": [
        "# from pyspark.ml.regression import LinearRegression\n",
        "# lr2 = LinearRegression(featuresCol = 'features', labelCol='price', maxIter=1000)\n",
        "from pyspark.ml.regression import DecisionTreeRegressor\n",
        "dtree2 = DecisionTreeRegressor(featuresCol = 'features', labelCol='price')"
      ],
      "execution_count": 100,
      "outputs": []
    },
    {
      "cell_type": "code",
      "metadata": {
        "id": "ESwOwc42jyiD"
      },
      "source": [
        "import pyspark.ml.tuning as tune\n",
        "import numpy as np \n",
        "# Create the parameter grid\n",
        "grid2 = tune.ParamGridBuilder()\n",
        "\n",
        "# Add the hyperparameters\n",
        "grid2 = grid2.addGrid(dtree2.maxBins, [16,32])\n",
        "grid2 = grid2.addGrid(dtree2.minInstancesPerNode, [100,1000])\n",
        "grid2 = grid2.addGrid(dtree2.maxDepth, [2,5,10])\n",
        "\n",
        "\n",
        "# Build the grid\n",
        "grid2 = grid2.build()"
      ],
      "execution_count": 101,
      "outputs": []
    },
    {
      "cell_type": "code",
      "metadata": {
        "id": "ppUvz27BlFmA"
      },
      "source": [
        "from pyspark.ml.evaluation import RegressionEvaluator\n",
        "\n",
        "dtree_evaluator2 = RegressionEvaluator(predictionCol=\"prediction\", \\\n",
        "                 labelCol=\"price\",metricName=\"rmse\")\n",
        "# Create the CrossValidator (3 folds)\n",
        "cv2 = tune.CrossValidator(estimator=dtree2,\n",
        "               estimatorParamMaps=grid2,\n",
        "               evaluator=dtree_evaluator2,\n",
        "               numFolds=3,\n",
        "               parallelism=8\n",
        "               )"
      ],
      "execution_count": 102,
      "outputs": []
    },
    {
      "cell_type": "code",
      "metadata": {
        "id": "31pm2lQKlFsV"
      },
      "source": [
        "# Fit cross validation models\n",
        "models2 = cv2.fit(train2)\n",
        "\n",
        "# Extract the best model\n",
        "best_dtree2 = models2.bestModel"
      ],
      "execution_count": 103,
      "outputs": []
    },
    {
      "cell_type": "code",
      "metadata": {
        "id": "NkoRZ6GblJI6",
        "colab": {
          "base_uri": "https://localhost:8080/"
        },
        "outputId": "41c43504-9c25-4b24-ed83-6b0a68720493"
      },
      "source": [
        "# Use the model to predict the test set\n",
        "validation_results_dtree2 = best_dtree2.transform(validation2)\n",
        "\n",
        "# Evaluate the predictions\n",
        "print('Best RMSE:', dtree_evaluator2.evaluate(validation_results_dtree2))"
      ],
      "execution_count": 104,
      "outputs": [
        {
          "output_type": "stream",
          "name": "stdout",
          "text": [
            "Best RMSE: 480.0334557922494\n"
          ]
        }
      ]
    },
    {
      "cell_type": "markdown",
      "metadata": {
        "id": "8A8F5eZxlLz3"
      },
      "source": [
        "La RMSE est désormais beaucoup plus faible par rapport à la stratégie 1. Le traitement des données avant l'application du modèle de régression a donc bien porté ses fruits."
      ]
    },
    {
      "cell_type": "markdown",
      "metadata": {
        "id": "H78d0-hblg0a"
      },
      "source": [
        "#### Architecture de l'arbre"
      ]
    },
    {
      "cell_type": "code",
      "metadata": {
        "id": "8g2TLCnwlaxG",
        "colab": {
          "base_uri": "https://localhost:8080/"
        },
        "outputId": "239cb077-5244-4c7d-ab67-f3132392bc8f"
      },
      "source": [
        "print(best_dtree2.toDebugString)"
      ],
      "execution_count": 105,
      "outputs": [
        {
          "output_type": "stream",
          "name": "stdout",
          "text": [
            "DecisionTreeRegressionModel: uid=DecisionTreeRegressor_fa7257cf7367, depth=10, numNodes=649, numFeatures=9\n",
            "  If (feature 0 <= 1000.5)\n",
            "   If (feature 7 <= 0.5)\n",
            "    If (feature 0 <= 650.5)\n",
            "     If (feature 5 <= 0.5)\n",
            "      If (feature 0 <= 489.0)\n",
            "       If (feature 8 <= 0.5)\n",
            "        If (feature 4 <= 0.5)\n",
            "         If (feature 3 <= 0.5)\n",
            "          If (feature 1 <= 1.5)\n",
            "           Predict: 891.0805194805195\n",
            "          Else (feature 1 > 1.5)\n",
            "           Predict: 913.8849557522124\n",
            "         Else (feature 3 > 0.5)\n",
            "          Predict: 958.8693467336683\n",
            "        Else (feature 4 > 0.5)\n",
            "         If (feature 1 <= 1.5)\n",
            "          Predict: 946.548532731377\n",
            "         Else (feature 1 > 1.5)\n",
            "          If (feature 6 <= 0.5)\n",
            "           Predict: 1156.5049019607843\n",
            "          Else (feature 6 > 0.5)\n",
            "           Predict: 1079.197969543147\n",
            "       Else (feature 8 > 0.5)\n",
            "        If (feature 6 <= 0.5)\n",
            "         If (feature 1 <= 1.5)\n",
            "          Predict: 831.8144329896908\n",
            "         Else (feature 1 > 1.5)\n",
            "          If (feature 3 <= 0.5)\n",
            "           Predict: 1077.8560606060605\n",
            "          Else (feature 3 > 0.5)\n",
            "           Predict: 874.2268907563025\n",
            "        Else (feature 6 > 0.5)\n",
            "         If (feature 1 <= 1.5)\n",
            "          Predict: 798.2380952380952\n",
            "         Else (feature 1 > 1.5)\n",
            "          Predict: 615.8333333333334\n",
            "      Else (feature 0 > 489.0)\n",
            "       If (feature 8 <= 0.5)\n",
            "        If (feature 6 <= 0.5)\n",
            "         If (feature 1 <= 1.5)\n",
            "          If (feature 0 <= 572.5)\n",
            "           If (feature 4 <= 0.5)\n",
            "            Predict: 951.9913494809689\n",
            "           Else (feature 4 > 0.5)\n",
            "            Predict: 972.9376391982182\n",
            "          Else (feature 0 > 572.5)\n",
            "           If (feature 4 <= 0.5)\n",
            "            Predict: 1026.9342342342343\n",
            "           Else (feature 4 > 0.5)\n",
            "            Predict: 991.1257641921397\n",
            "         Else (feature 1 > 1.5)\n",
            "          If (feature 4 <= 0.5)\n",
            "           If (feature 0 <= 572.5)\n",
            "            Predict: 1037.246153846154\n",
            "           Else (feature 0 > 572.5)\n",
            "            Predict: 1031.7397260273972\n",
            "          Else (feature 4 > 0.5)\n",
            "           If (feature 0 <= 572.5)\n",
            "            Predict: 1185.8101604278074\n",
            "           Else (feature 0 > 572.5)\n",
            "            Predict: 1089.3502824858756\n",
            "        Else (feature 6 > 0.5)\n",
            "         If (feature 4 <= 0.5)\n",
            "          Predict: 933.62\n",
            "         Else (feature 4 > 0.5)\n",
            "          If (feature 1 <= 1.5)\n",
            "           If (feature 0 <= 615.5)\n",
            "            Predict: 1140.0319361277445\n",
            "           Else (feature 0 > 615.5)\n",
            "            Predict: 1214.9249011857708\n",
            "          Else (feature 1 > 1.5)\n",
            "           Predict: 1328.2835051546392\n",
            "       Else (feature 8 > 0.5)\n",
            "        If (feature 0 <= 615.5)\n",
            "         If (feature 1 <= 1.5)\n",
            "          If (feature 0 <= 572.5)\n",
            "           Predict: 1198.2974137931035\n",
            "          Else (feature 0 > 572.5)\n",
            "           Predict: 1356.4770642201836\n",
            "         Else (feature 1 > 1.5)\n",
            "          Predict: 1177.9470588235295\n",
            "        Else (feature 0 > 615.5)\n",
            "         Predict: 1352.3891625615763\n",
            "     Else (feature 5 > 0.5)\n",
            "      If (feature 0 <= 489.0)\n",
            "       If (feature 8 <= 0.5)\n",
            "        If (feature 1 <= 1.5)\n",
            "         If (feature 3 <= 0.5)\n",
            "          Predict: 767.5888689407541\n",
            "         Else (feature 3 > 0.5)\n",
            "          If (feature 4 <= 0.5)\n",
            "           Predict: 854.5436893203884\n",
            "          Else (feature 4 > 0.5)\n",
            "           Predict: 810.1086786551994\n",
            "        Else (feature 1 > 1.5)\n",
            "         If (feature 4 <= 0.5)\n",
            "          If (feature 3 <= 0.5)\n",
            "           Predict: 892.913101604278\n",
            "          Else (feature 3 > 0.5)\n",
            "           Predict: 1002.4088669950739\n",
            "         Else (feature 4 > 0.5)\n",
            "          If (feature 6 <= 0.5)\n",
            "           Predict: 817.1630276564774\n",
            "          Else (feature 6 > 0.5)\n",
            "           Predict: 915.675\n",
            "       Else (feature 8 > 0.5)\n",
            "        If (feature 4 <= 0.5)\n",
            "         Predict: 461.4662447257384\n",
            "        Else (feature 4 > 0.5)\n",
            "         If (feature 6 <= 0.5)\n",
            "          If (feature 1 <= 1.5)\n",
            "           Predict: 670.96875\n",
            "          Else (feature 1 > 1.5)\n",
            "           Predict: 777.4449152542373\n",
            "         Else (feature 6 > 0.5)\n",
            "          Predict: 518.2170542635658\n",
            "      Else (feature 0 > 489.0)\n",
            "       If (feature 1 <= 1.5)\n",
            "        If (feature 0 <= 615.5)\n",
            "         If (feature 4 <= 0.5)\n",
            "          If (feature 0 <= 572.5)\n",
            "           If (feature 3 <= 0.5)\n",
            "            Predict: 825.3136200716846\n",
            "           Else (feature 3 > 0.5)\n",
            "            Predict: 951.0790960451977\n",
            "          Else (feature 0 > 572.5)\n",
            "           If (feature 3 <= 0.5)\n",
            "            Predict: 959.1245394252027\n",
            "           Else (feature 3 > 0.5)\n",
            "            Predict: 1002.0376344086021\n",
            "         Else (feature 4 > 0.5)\n",
            "          If (feature 8 <= 0.5)\n",
            "           If (feature 6 <= 0.5)\n",
            "            Predict: 839.7463010204082\n",
            "           Else (feature 6 > 0.5)\n",
            "            Predict: 859.8916478555304\n",
            "          Else (feature 8 > 0.5)\n",
            "           Predict: 902.6255924170616\n",
            "        Else (feature 0 > 615.5)\n",
            "         If (feature 4 <= 0.5)\n",
            "          If (feature 3 <= 0.5)\n",
            "           Predict: 969.3171521035599\n",
            "          Else (feature 3 > 0.5)\n",
            "           Predict: 1066.6988416988418\n",
            "         Else (feature 4 > 0.5)\n",
            "          If (feature 6 <= 0.5)\n",
            "           Predict: 928.270643939394\n",
            "          Else (feature 6 > 0.5)\n",
            "           Predict: 1024.648888888889\n",
            "       Else (feature 1 > 1.5)\n",
            "        If (feature 0 <= 615.5)\n",
            "         If (feature 6 <= 0.5)\n",
            "          If (feature 0 <= 572.5)\n",
            "           If (feature 3 <= 0.5)\n",
            "            Predict: 1176.6311239193083\n",
            "           Else (feature 3 > 0.5)\n",
            "            Predict: 1026.002257336343\n",
            "          Else (feature 0 > 572.5)\n",
            "           If (feature 4 <= 0.5)\n",
            "            Predict: 986.3931034482758\n",
            "           Else (feature 4 > 0.5)\n",
            "            Predict: 941.9421052631579\n",
            "         Else (feature 6 > 0.5)\n",
            "          Predict: 1294.9622641509434\n",
            "        Else (feature 0 > 615.5)\n",
            "         If (feature 4 <= 0.5)\n",
            "          Predict: 906.828418230563\n",
            "         Else (feature 4 > 0.5)\n",
            "          If (feature 2 <= 1.75)\n",
            "           Predict: 812.6399176954733\n",
            "          Else (feature 2 > 1.75)\n",
            "           Predict: 691.1016949152543\n",
            "    Else (feature 0 > 650.5)\n",
            "     If (feature 5 <= 0.5)\n",
            "      If (feature 6 <= 0.5)\n",
            "       If (feature 8 <= 0.5)\n",
            "        If (feature 2 <= 1.75)\n",
            "         If (feature 1 <= 1.5)\n",
            "          If (feature 0 <= 725.5)\n",
            "           If (feature 0 <= 683.5)\n",
            "            Predict: 1148.5564074479737\n",
            "           Else (feature 0 > 683.5)\n",
            "            Predict: 1051.1350055330136\n",
            "          Else (feature 0 > 725.5)\n",
            "           If (feature 0 <= 800.5)\n",
            "            Predict: 1170.7045079714128\n",
            "           Else (feature 0 > 800.5)\n",
            "            Predict: 1239.9776773099745\n",
            "         Else (feature 1 > 1.5)\n",
            "          If (feature 0 <= 959.5)\n",
            "           If (feature 0 <= 824.5)\n",
            "            Predict: 1011.3901888920215\n",
            "           Else (feature 0 > 824.5)\n",
            "            Predict: 1076.6065664997218\n",
            "          Else (feature 0 > 959.5)\n",
            "           If (feature 0 <= 980.5)\n",
            "            Predict: 1214.328458942632\n",
            "           Else (feature 0 > 980.5)\n",
            "            Predict: 1143.5750174459176\n",
            "        Else (feature 2 > 1.75)\n",
            "         If (feature 0 <= 777.5)\n",
            "          Predict: 1018.1354166666666\n",
            "         Else (feature 0 > 777.5)\n",
            "          If (feature 0 <= 980.5)\n",
            "           If (feature 0 <= 959.5)\n",
            "            Predict: 1252.0533642691416\n",
            "           Else (feature 0 > 959.5)\n",
            "            Predict: 1173.232044198895\n",
            "          Else (feature 0 > 980.5)\n",
            "           If (feature 4 <= 0.5)\n",
            "            Predict: 1343.6339285714287\n",
            "           Else (feature 4 > 0.5)\n",
            "            Predict: 1273.4318734793187\n",
            "       Else (feature 8 > 0.5)\n",
            "        If (feature 3 <= 0.5)\n",
            "         If (feature 2 <= 1.25)\n",
            "          If (feature 0 <= 959.5)\n",
            "           If (feature 0 <= 899.5)\n",
            "            Predict: 1369.5884955752213\n",
            "           Else (feature 0 > 899.5)\n",
            "            Predict: 1211.5429864253394\n",
            "          Else (feature 0 > 959.5)\n",
            "           Predict: 1606.1\n",
            "         Else (feature 2 > 1.25)\n",
            "          If (feature 0 <= 959.5)\n",
            "           Predict: 1771.5976331360946\n",
            "          Else (feature 0 > 959.5)\n",
            "           Predict: 1494.7\n",
            "        Else (feature 3 > 0.5)\n",
            "         If (feature 1 <= 1.5)\n",
            "          If (feature 0 <= 777.5)\n",
            "           Predict: 1593.892561983471\n",
            "          Else (feature 0 > 777.5)\n",
            "           Predict: 1394.4788732394366\n",
            "         Else (feature 1 > 1.5)\n",
            "          If (feature 0 <= 824.5)\n",
            "           Predict: 983.4136125654451\n",
            "          Else (feature 0 > 824.5)\n",
            "           If (feature 0 <= 959.5)\n",
            "            Predict: 1145.1860465116279\n",
            "           Else (feature 0 > 959.5)\n",
            "            Predict: 1323.69\n",
            "      Else (feature 6 > 0.5)\n",
            "       If (feature 1 <= 1.5)\n",
            "        If (feature 8 <= 0.5)\n",
            "         If (feature 0 <= 725.5)\n",
            "          If (feature 0 <= 700.5)\n",
            "           If (feature 0 <= 683.5)\n",
            "            Predict: 1290.5875370919882\n",
            "           Else (feature 0 > 683.5)\n",
            "            Predict: 1251.2033898305085\n",
            "          Else (feature 0 > 700.5)\n",
            "           Predict: 1309.8114942528737\n",
            "         Else (feature 0 > 725.5)\n",
            "          If (feature 3 <= 0.5)\n",
            "           Predict: 1773.4585635359117\n",
            "          Else (feature 3 > 0.5)\n",
            "           If (feature 0 <= 849.5)\n",
            "            Predict: 1479.9301470588234\n",
            "           Else (feature 0 > 849.5)\n",
            "            Predict: 1270.230593607306\n",
            "        Else (feature 8 > 0.5)\n",
            "         If (feature 0 <= 849.5)\n",
            "          If (feature 0 <= 800.5)\n",
            "           Predict: 1413.7569444444443\n",
            "          Else (feature 0 > 800.5)\n",
            "           Predict: 1203.5104895104896\n",
            "         Else (feature 0 > 849.5)\n",
            "          Predict: 973.1554054054054\n",
            "       Else (feature 1 > 1.5)\n",
            "        If (feature 2 <= 1.75)\n",
            "         If (feature 0 <= 725.5)\n",
            "          Predict: 1356.5033112582782\n",
            "         Else (feature 0 > 725.5)\n",
            "          If (feature 4 <= 0.5)\n",
            "           If (feature 0 <= 869.5)\n",
            "            Predict: 1277.6193548387096\n",
            "           Else (feature 0 > 869.5)\n",
            "            Predict: 974.8978494623656\n",
            "          Else (feature 4 > 0.5)\n",
            "           If (feature 0 <= 849.5)\n",
            "            Predict: 966.3083511777302\n",
            "           Else (feature 0 > 849.5)\n",
            "            Predict: 1058.013201320132\n",
            "        Else (feature 2 > 1.75)\n",
            "         If (feature 0 <= 824.5)\n",
            "          Predict: 1011.0147783251232\n",
            "         Else (feature 0 > 824.5)\n",
            "          If (feature 0 <= 980.5)\n",
            "           If (feature 0 <= 940.5)\n",
            "            Predict: 1232.5733082706768\n",
            "           Else (feature 0 > 940.5)\n",
            "            Predict: 1309.9141104294479\n",
            "          Else (feature 0 > 980.5)\n",
            "           Predict: 1442.6029411764705\n",
            "     Else (feature 5 > 0.5)\n",
            "      If (feature 2 <= 1.75)\n",
            "       If (feature 1 <= 1.5)\n",
            "        If (feature 8 <= 0.5)\n",
            "         If (feature 0 <= 750.5)\n",
            "          If (feature 0 <= 700.5)\n",
            "           If (feature 6 <= 0.5)\n",
            "            Predict: 975.3029101720875\n",
            "           Else (feature 6 > 0.5)\n",
            "            Predict: 1110.8510638297873\n",
            "          Else (feature 0 > 700.5)\n",
            "           If (feature 6 <= 0.5)\n",
            "            Predict: 1025.2091653630257\n",
            "           Else (feature 6 > 0.5)\n",
            "            Predict: 1113.9008438818566\n",
            "         Else (feature 0 > 750.5)\n",
            "          If (feature 0 <= 959.5)\n",
            "           If (feature 0 <= 800.5)\n",
            "            Predict: 1099.8972088330904\n",
            "           Else (feature 0 > 800.5)\n",
            "            Predict: 1138.3305489260142\n",
            "          Else (feature 0 > 959.5)\n",
            "           If (feature 4 <= 0.5)\n",
            "            Predict: 1304.7493333333334\n",
            "           Else (feature 4 > 0.5)\n",
            "            Predict: 1201.3660436137072\n",
            "        Else (feature 8 > 0.5)\n",
            "         If (feature 3 <= 0.5)\n",
            "          Predict: 2294.9949494949497\n",
            "         Else (feature 3 > 0.5)\n",
            "          If (feature 0 <= 800.5)\n",
            "           If (feature 0 <= 725.5)\n",
            "            Predict: 1181.0230769230768\n",
            "           Else (feature 0 > 725.5)\n",
            "            Predict: 1172.6764705882354\n",
            "          Else (feature 0 > 800.5)\n",
            "           Predict: 1317.2608695652175\n",
            "       Else (feature 1 > 1.5)\n",
            "        If (feature 0 <= 750.5)\n",
            "         If (feature 6 <= 0.5)\n",
            "          If (feature 2 <= 1.25)\n",
            "           If (feature 1 <= 2.5)\n",
            "            Predict: 904.3359270190501\n",
            "           Else (feature 1 > 2.5)\n",
            "            Predict: 805.7407407407408\n",
            "          Else (feature 2 > 1.25)\n",
            "           Predict: 1050.2847222222222\n",
            "         Else (feature 6 > 0.5)\n",
            "          Predict: 1137.3432835820895\n",
            "        Else (feature 0 > 750.5)\n",
            "         If (feature 0 <= 980.5)\n",
            "          If (feature 3 <= 0.5)\n",
            "           If (feature 1 <= 2.5)\n",
            "            Predict: 963.9603860558917\n",
            "           Else (feature 1 > 2.5)\n",
            "            Predict: 873.9754601226994\n",
            "          Else (feature 3 > 0.5)\n",
            "           If (feature 4 <= 0.5)\n",
            "            Predict: 1085.3973013493253\n",
            "           Else (feature 4 > 0.5)\n",
            "            Predict: 978.756543624161\n",
            "         Else (feature 0 > 980.5)\n",
            "          If (feature 4 <= 0.5)\n",
            "           If (feature 3 <= 0.5)\n",
            "            Predict: 1131.353725490196\n",
            "           Else (feature 3 > 0.5)\n",
            "            Predict: 1229.8853503184714\n",
            "          Else (feature 4 > 0.5)\n",
            "           If (feature 2 <= 1.25)\n",
            "            Predict: 1043.124926686217\n",
            "           Else (feature 2 > 1.25)\n",
            "            Predict: 887.7610062893082\n",
            "      Else (feature 2 > 1.75)\n",
            "       If (feature 1 <= 2.5)\n",
            "        If (feature 0 <= 959.5)\n",
            "         If (feature 0 <= 777.5)\n",
            "          If (feature 8 <= 0.5)\n",
            "           If (feature 0 <= 700.5)\n",
            "            Predict: 969.2292993630573\n",
            "           Else (feature 0 > 700.5)\n",
            "            Predict: 889.6869565217391\n",
            "          Else (feature 8 > 0.5)\n",
            "           Predict: 571.7142857142857\n",
            "         Else (feature 0 > 777.5)\n",
            "          If (feature 8 <= 0.5)\n",
            "           If (feature 0 <= 869.5)\n",
            "            Predict: 1056.9680134680134\n",
            "           Else (feature 0 > 869.5)\n",
            "            Predict: 1101.1503340757238\n",
            "          Else (feature 8 > 0.5)\n",
            "           Predict: 1254.8446601941748\n",
            "        Else (feature 0 > 959.5)\n",
            "         If (feature 8 <= 0.5)\n",
            "          If (feature 6 <= 0.5)\n",
            "           If (feature 4 <= 0.5)\n",
            "            Predict: 1220.0349932705249\n",
            "           Else (feature 4 > 0.5)\n",
            "            Predict: 1175.1663066954643\n",
            "          Else (feature 6 > 0.5)\n",
            "           If (feature 0 <= 980.5)\n",
            "            Predict: 1245.0526315789473\n",
            "           Else (feature 0 > 980.5)\n",
            "            Predict: 1353.3740458015268\n",
            "         Else (feature 8 > 0.5)\n",
            "          Predict: 1423.8108108108108\n",
            "       Else (feature 1 > 2.5)\n",
            "        If (feature 2 <= 2.75)\n",
            "         If (feature 0 <= 899.5)\n",
            "          If (feature 3 <= 0.5)\n",
            "           Predict: 737.8076923076923\n",
            "          Else (feature 3 > 0.5)\n",
            "           Predict: 770.4125874125874\n",
            "         Else (feature 0 > 899.5)\n",
            "          If (feature 0 <= 959.5)\n",
            "           If (feature 0 <= 940.5)\n",
            "            Predict: 973.1720430107526\n",
            "           Else (feature 0 > 940.5)\n",
            "            Predict: 1192.086330935252\n",
            "          Else (feature 0 > 959.5)\n",
            "           If (feature 0 <= 980.5)\n",
            "            Predict: 900.1515151515151\n",
            "           Else (feature 0 > 980.5)\n",
            "            Predict: 1003.8038147138965\n",
            "        Else (feature 2 > 2.75)\n",
            "         If (feature 0 <= 849.5)\n",
            "          Predict: 579.544776119403\n",
            "         Else (feature 0 > 849.5)\n",
            "          Predict: 643.2252747252747\n",
            "   Else (feature 7 > 0.5)\n",
            "    If (feature 8 <= 0.5)\n",
            "     If (feature 5 <= 0.5)\n",
            "      If (feature 2 <= 1.75)\n",
            "       If (feature 0 <= 572.5)\n",
            "        Predict: 1555.9153846153847\n",
            "       Else (feature 0 > 572.5)\n",
            "        If (feature 6 <= 0.5)\n",
            "         If (feature 0 <= 683.5)\n",
            "          Predict: 1925.2977099236641\n",
            "         Else (feature 0 > 683.5)\n",
            "          If (feature 0 <= 824.5)\n",
            "           If (feature 0 <= 725.5)\n",
            "            Predict: 1708.2280701754387\n",
            "           Else (feature 0 > 725.5)\n",
            "            Predict: 1665.8947368421052\n",
            "          Else (feature 0 > 824.5)\n",
            "           Predict: 1605.2782608695652\n",
            "        Else (feature 6 > 0.5)\n",
            "         If (feature 0 <= 725.5)\n",
            "          If (feature 0 <= 650.5)\n",
            "           Predict: 1954.945945945946\n",
            "          Else (feature 0 > 650.5)\n",
            "           Predict: 1698.9504132231405\n",
            "         Else (feature 0 > 725.5)\n",
            "          If (feature 0 <= 777.5)\n",
            "           Predict: 2120.2549019607845\n",
            "          Else (feature 0 > 777.5)\n",
            "           Predict: 2022.551515151515\n",
            "      Else (feature 2 > 1.75)\n",
            "       Predict: 2393.67027027027\n",
            "     Else (feature 5 > 0.5)\n",
            "      If (feature 1 <= 1.5)\n",
            "       If (feature 6 <= 0.5)\n",
            "        Predict: 1537.3879781420765\n",
            "       Else (feature 6 > 0.5)\n",
            "        Predict: 1722.4676258992806\n",
            "      Else (feature 1 > 1.5)\n",
            "       If (feature 0 <= 899.5)\n",
            "        Predict: 1364.6280991735537\n",
            "       Else (feature 0 > 899.5)\n",
            "        Predict: 1294.2333333333333\n",
            "    Else (feature 8 > 0.5)\n",
            "     If (feature 1 <= 1.5)\n",
            "      Predict: 1420.803680981595\n",
            "     Else (feature 1 > 1.5)\n",
            "      Predict: 985.5529411764705\n",
            "  Else (feature 0 > 1000.5)\n",
            "   If (feature 0 <= 1509.0)\n",
            "    If (feature 5 <= 0.5)\n",
            "     If (feature 7 <= 0.5)\n",
            "      If (feature 2 <= 1.75)\n",
            "       If (feature 6 <= 0.5)\n",
            "        If (feature 0 <= 1179.5)\n",
            "         If (feature 1 <= 1.5)\n",
            "          If (feature 0 <= 1079.5)\n",
            "           Predict: 1485.0123456790122\n",
            "          Else (feature 0 > 1079.5)\n",
            "           Predict: 1433.484126984127\n",
            "         Else (feature 1 > 1.5)\n",
            "          If (feature 8 <= 0.5)\n",
            "           If (feature 0 <= 1079.5)\n",
            "            Predict: 1149.1156028368794\n",
            "           Else (feature 0 > 1079.5)\n",
            "            Predict: 1209.5742647058823\n",
            "          Else (feature 8 > 0.5)\n",
            "           Predict: 1411.7299270072992\n",
            "        Else (feature 0 > 1179.5)\n",
            "         If (feature 0 <= 1258.5)\n",
            "          If (feature 8 <= 0.5)\n",
            "           If (feature 4 <= 0.5)\n",
            "            Predict: 1328.3101092896175\n",
            "           Else (feature 4 > 0.5)\n",
            "            Predict: 1253.3651162790698\n",
            "          Else (feature 8 > 0.5)\n",
            "           Predict: 1486.826923076923\n",
            "         Else (feature 0 > 1258.5)\n",
            "          If (feature 1 <= 2.5)\n",
            "           If (feature 4 <= 0.5)\n",
            "            Predict: 1357.2762148337597\n",
            "           Else (feature 4 > 0.5)\n",
            "            Predict: 1566.2345132743362\n",
            "          Else (feature 1 > 2.5)\n",
            "           If (feature 1 <= 3.5)\n",
            "            Predict: 1340.0235294117647\n",
            "           Else (feature 1 > 3.5)\n",
            "            Predict: 1516.960396039604\n",
            "       Else (feature 6 > 0.5)\n",
            "        If (feature 0 <= 1049.5)\n",
            "         Predict: 1857.0\n",
            "        Else (feature 0 > 1049.5)\n",
            "         If (feature 0 <= 1209.5)\n",
            "          If (feature 1 <= 1.5)\n",
            "           Predict: 1104.4077669902913\n",
            "          Else (feature 1 > 1.5)\n",
            "           Predict: 1238.2586206896551\n",
            "         Else (feature 0 > 1209.5)\n",
            "          Predict: 1658.5974025974026\n",
            "      Else (feature 2 > 1.75)\n",
            "       If (feature 0 <= 1209.5)\n",
            "        If (feature 1 <= 3.5)\n",
            "         If (feature 6 <= 0.5)\n",
            "          If (feature 0 <= 1079.5)\n",
            "           If (feature 1 <= 2.5)\n",
            "            Predict: 1336.4226509467667\n",
            "           Else (feature 1 > 2.5)\n",
            "            Predict: 1174.4306220095693\n",
            "          Else (feature 0 > 1079.5)\n",
            "           If (feature 1 <= 2.5)\n",
            "            Predict: 1466.2155544887182\n",
            "           Else (feature 1 > 2.5)\n",
            "            Predict: 1346.87623474724\n",
            "         Else (feature 6 > 0.5)\n",
            "          If (feature 1 <= 2.5)\n",
            "           If (feature 0 <= 1179.5)\n",
            "            Predict: 1661.1910499139415\n",
            "           Else (feature 0 > 1179.5)\n",
            "            Predict: 1975.5022831050228\n",
            "          Else (feature 1 > 2.5)\n",
            "           If (feature 0 <= 1100.5)\n",
            "            Predict: 1184.7161572052403\n",
            "           Else (feature 0 > 1100.5)\n",
            "            Predict: 1502.125\n",
            "        Else (feature 1 > 3.5)\n",
            "         If (feature 6 <= 0.5)\n",
            "          Predict: 957.7181208053692\n",
            "         Else (feature 6 > 0.5)\n",
            "          Predict: 563.1923076923077\n",
            "       Else (feature 0 > 1209.5)\n",
            "        If (feature 2 <= 3.75)\n",
            "         If (feature 1 <= 2.5)\n",
            "          If (feature 6 <= 0.5)\n",
            "           If (feature 8 <= 0.5)\n",
            "            Predict: 1592.2983114446529\n",
            "           Else (feature 8 > 0.5)\n",
            "            Predict: 1848.9416666666666\n",
            "          Else (feature 6 > 0.5)\n",
            "           If (feature 4 <= 0.5)\n",
            "            Predict: 2356.8607594936707\n",
            "           Else (feature 4 > 0.5)\n",
            "            Predict: 1959.880694143167\n",
            "         Else (feature 1 > 2.5)\n",
            "          If (feature 8 <= 0.5)\n",
            "           If (feature 0 <= 1400.5)\n",
            "            Predict: 1483.6277463904582\n",
            "           Else (feature 0 > 1400.5)\n",
            "            Predict: 1596.9380952380952\n",
            "          Else (feature 8 > 0.5)\n",
            "           If (feature 3 <= 0.5)\n",
            "            Predict: 1896.4247311827958\n",
            "           Else (feature 3 > 0.5)\n",
            "            Predict: 1583.1160714285713\n",
            "        Else (feature 2 > 3.75)\n",
            "         Predict: 729.828025477707\n",
            "     Else (feature 7 > 0.5)\n",
            "      If (feature 8 <= 0.5)\n",
            "       If (feature 0 <= 1258.5)\n",
            "        If (feature 6 <= 0.5)\n",
            "         If (feature 0 <= 1049.5)\n",
            "          Predict: 1851.3214285714287\n",
            "         Else (feature 0 > 1049.5)\n",
            "          Predict: 2162.9815950920247\n",
            "        Else (feature 6 > 0.5)\n",
            "         If (feature 0 <= 1079.5)\n",
            "          Predict: 2256.3384615384616\n",
            "         Else (feature 0 > 1079.5)\n",
            "          Predict: 2232.75625\n",
            "       Else (feature 0 > 1258.5)\n",
            "        Predict: 2616.458128078818\n",
            "      Else (feature 8 > 0.5)\n",
            "       Predict: 1581.1333333333334\n",
            "    Else (feature 5 > 0.5)\n",
            "     If (feature 2 <= 1.75)\n",
            "      If (feature 1 <= 1.5)\n",
            "       If (feature 2 <= 1.25)\n",
            "        If (feature 0 <= 1020.5)\n",
            "         Predict: 1470.190082644628\n",
            "        Else (feature 0 > 1020.5)\n",
            "         If (feature 0 <= 1209.5)\n",
            "          If (feature 0 <= 1079.5)\n",
            "           If (feature 0 <= 1049.5)\n",
            "            Predict: 1247.6756756756756\n",
            "           Else (feature 0 > 1049.5)\n",
            "            Predict: 1332.5503597122301\n",
            "          Else (feature 0 > 1079.5)\n",
            "           If (feature 0 <= 1100.5)\n",
            "            Predict: 1173.891304347826\n",
            "           Else (feature 0 > 1100.5)\n",
            "            Predict: 1260.112554112554\n",
            "         Else (feature 0 > 1209.5)\n",
            "          Predict: 1397.4066666666668\n",
            "       Else (feature 2 > 1.25)\n",
            "        If (feature 0 <= 1079.5)\n",
            "         Predict: 1532.8050847457628\n",
            "        Else (feature 0 > 1079.5)\n",
            "         Predict: 1439.3308270676691\n",
            "      Else (feature 1 > 1.5)\n",
            "       If (feature 2 <= 1.25)\n",
            "        If (feature 0 <= 1400.5)\n",
            "         If (feature 0 <= 1138.5)\n",
            "          If (feature 1 <= 2.5)\n",
            "           If (feature 0 <= 1020.5)\n",
            "            Predict: 1223.4895209580839\n",
            "           Else (feature 0 > 1020.5)\n",
            "            Predict: 1111.9764406240051\n",
            "          Else (feature 1 > 2.5)\n",
            "           If (feature 0 <= 1020.5)\n",
            "            Predict: 833.0520231213873\n",
            "           Else (feature 0 > 1020.5)\n",
            "            Predict: 1090.4765432098766\n",
            "         Else (feature 0 > 1138.5)\n",
            "          If (feature 8 <= 0.5)\n",
            "           If (feature 1 <= 3.5)\n",
            "            Predict: 1195.0630053908355\n",
            "           Else (feature 1 > 3.5)\n",
            "            Predict: 1336.4265734265734\n",
            "          Else (feature 8 > 0.5)\n",
            "           Predict: 1029.6742424242425\n",
            "        Else (feature 0 > 1400.5)\n",
            "         If (feature 3 <= 0.5)\n",
            "          Predict: 1296.490099009901\n",
            "         Else (feature 3 > 0.5)\n",
            "          Predict: 1499.2116402116403\n",
            "       Else (feature 2 > 1.25)\n",
            "        If (feature 0 <= 1020.5)\n",
            "         If (feature 3 <= 0.5)\n",
            "          Predict: 853.0111731843575\n",
            "         Else (feature 3 > 0.5)\n",
            "          Predict: 921.0688073394496\n",
            "        Else (feature 0 > 1020.5)\n",
            "         If (feature 0 <= 1209.5)\n",
            "          If (feature 0 <= 1179.5)\n",
            "           If (feature 3 <= 0.5)\n",
            "            Predict: 987.6375488917862\n",
            "           Else (feature 3 > 0.5)\n",
            "            Predict: 1073.22412656559\n",
            "          Else (feature 0 > 1179.5)\n",
            "           If (feature 4 <= 0.5)\n",
            "            Predict: 1115.6729857819905\n",
            "           Else (feature 4 > 0.5)\n",
            "            Predict: 943.568608094768\n",
            "         Else (feature 0 > 1209.5)\n",
            "          If (feature 0 <= 1318.5)\n",
            "           If (feature 1 <= 2.5)\n",
            "            Predict: 1186.0389610389611\n",
            "           Else (feature 1 > 2.5)\n",
            "            Predict: 1087.7607655502393\n",
            "          Else (feature 0 > 1318.5)\n",
            "           If (feature 1 <= 2.5)\n",
            "            Predict: 1007.0967741935484\n",
            "           Else (feature 1 > 2.5)\n",
            "            Predict: 1074.9912280701753\n",
            "     Else (feature 2 > 1.75)\n",
            "      If (feature 2 <= 3.75)\n",
            "       If (feature 0 <= 1258.5)\n",
            "        If (feature 1 <= 2.5)\n",
            "         If (feature 7 <= 0.5)\n",
            "          If (feature 0 <= 1100.5)\n",
            "           If (feature 0 <= 1079.5)\n",
            "            Predict: 1264.8685849056603\n",
            "           Else (feature 0 > 1079.5)\n",
            "            Predict: 1219.9079727652097\n",
            "          Else (feature 0 > 1100.5)\n",
            "           If (feature 4 <= 0.5)\n",
            "            Predict: 1458.5733819507748\n",
            "           Else (feature 4 > 0.5)\n",
            "            Predict: 1318.6136698212408\n",
            "         Else (feature 7 > 0.5)\n",
            "          If (feature 6 <= 0.5)\n",
            "           Predict: 1899.9432624113474\n",
            "          Else (feature 6 > 0.5)\n",
            "           Predict: 2154.4454545454546\n",
            "        Else (feature 1 > 2.5)\n",
            "         If (feature 8 <= 0.5)\n",
            "          If (feature 2 <= 2.75)\n",
            "           If (feature 0 <= 1100.5)\n",
            "            Predict: 1120.0222135619642\n",
            "           Else (feature 0 > 1100.5)\n",
            "            Predict: 1166.7140898183065\n",
            "          Else (feature 2 > 2.75)\n",
            "           If (feature 0 <= 1100.5)\n",
            "            Predict: 656.4078212290502\n",
            "           Else (feature 0 > 1100.5)\n",
            "            Predict: 1183.5825242718447\n",
            "         Else (feature 8 > 0.5)\n",
            "          If (feature 1 <= 3.5)\n",
            "           If (feature 0 <= 1179.5)\n",
            "            Predict: 816.65625\n",
            "           Else (feature 0 > 1179.5)\n",
            "            Predict: 1003.1650485436893\n",
            "          Else (feature 1 > 3.5)\n",
            "           Predict: 516.1465517241379\n",
            "       Else (feature 0 > 1258.5)\n",
            "        If (feature 1 <= 2.5)\n",
            "         If (feature 1 <= 1.5)\n",
            "          Predict: 691.5174825174826\n",
            "         Else (feature 1 > 1.5)\n",
            "          If (feature 0 <= 1400.5)\n",
            "           If (feature 2 <= 2.25)\n",
            "            Predict: 1564.0692530819435\n",
            "           Else (feature 2 > 2.25)\n",
            "            Predict: 1455.4752252252251\n",
            "          Else (feature 0 > 1400.5)\n",
            "           If (feature 3 <= 0.5)\n",
            "            Predict: 1697.3938547486034\n",
            "           Else (feature 3 > 0.5)\n",
            "            Predict: 1712.4509151414309\n",
            "        Else (feature 1 > 2.5)\n",
            "         If (feature 8 <= 0.5)\n",
            "          If (feature 6 <= 0.5)\n",
            "           If (feature 3 <= 0.5)\n",
            "            Predict: 1340.4618680377034\n",
            "           Else (feature 3 > 0.5)\n",
            "            Predict: 1382.524812967581\n",
            "          Else (feature 6 > 0.5)\n",
            "           If (feature 0 <= 1318.5)\n",
            "            Predict: 1108.28125\n",
            "           Else (feature 0 > 1318.5)\n",
            "            Predict: 1318.989932885906\n",
            "         Else (feature 8 > 0.5)\n",
            "          If (feature 0 <= 1400.5)\n",
            "           Predict: 1001.5619047619048\n",
            "          Else (feature 0 > 1400.5)\n",
            "           Predict: 1278.8897637795276\n",
            "      Else (feature 2 > 3.75)\n",
            "       If (feature 0 <= 1400.5)\n",
            "        Predict: 519.7597402597403\n",
            "       Else (feature 0 > 1400.5)\n",
            "        Predict: 622.7757009345794\n",
            "   Else (feature 0 > 1509.0)\n",
            "    If (feature 2 <= 2.25)\n",
            "     If (feature 2 <= 1.75)\n",
            "      If (feature 4 <= 0.5)\n",
            "       If (feature 8 <= 0.5)\n",
            "        If (feature 1 <= 3.5)\n",
            "         If (feature 3 <= 0.5)\n",
            "          If (feature 2 <= 1.25)\n",
            "           If (feature 5 <= 0.5)\n",
            "            Predict: 1307.4292237442921\n",
            "           Else (feature 5 > 0.5)\n",
            "            Predict: 1214.0108303249096\n",
            "          Else (feature 2 > 1.25)\n",
            "           If (feature 0 <= 1769.0)\n",
            "            Predict: 1333.1657458563536\n",
            "           Else (feature 0 > 1769.0)\n",
            "            Predict: 1408.8474576271187\n",
            "         Else (feature 3 > 0.5)\n",
            "          Predict: 1563.4166666666667\n",
            "        Else (feature 1 > 3.5)\n",
            "         Predict: 1531.9807692307693\n",
            "       Else (feature 8 > 0.5)\n",
            "        Predict: 1557.1267605633802\n",
            "      Else (feature 4 > 0.5)\n",
            "       If (feature 1 <= 2.5)\n",
            "        If (feature 0 <= 1769.0)\n",
            "         If (feature 2 <= 1.25)\n",
            "          Predict: 1648.4609929078015\n",
            "         Else (feature 2 > 1.25)\n",
            "          Predict: 1267.7821782178219\n",
            "        Else (feature 0 > 1769.0)\n",
            "         Predict: 1248.3262411347519\n",
            "       Else (feature 1 > 2.5)\n",
            "        If (feature 0 <= 1769.0)\n",
            "         If (feature 5 <= 0.5)\n",
            "          Predict: 1356.2814371257484\n",
            "         Else (feature 5 > 0.5)\n",
            "          If (feature 1 <= 3.5)\n",
            "           Predict: 1217.0882352941176\n",
            "          Else (feature 1 > 3.5)\n",
            "           Predict: 1149.4866666666667\n",
            "        Else (feature 0 > 1769.0)\n",
            "         If (feature 2 <= 1.25)\n",
            "          If (feature 5 <= 0.5)\n",
            "           Predict: 940.8165680473372\n",
            "          Else (feature 5 > 0.5)\n",
            "           Predict: 1152.5438596491229\n",
            "         Else (feature 2 > 1.25)\n",
            "          If (feature 1 <= 3.5)\n",
            "           Predict: 1219.3238636363637\n",
            "          Else (feature 1 > 3.5)\n",
            "           Predict: 1258.1978021978023\n",
            "     Else (feature 2 > 1.75)\n",
            "      If (feature 5 <= 0.5)\n",
            "       If (feature 8 <= 0.5)\n",
            "        If (feature 1 <= 2.5)\n",
            "         If (feature 3 <= 0.5)\n",
            "          Predict: 1830.4453781512605\n",
            "         Else (feature 3 > 0.5)\n",
            "          Predict: 1997.7757847533633\n",
            "        Else (feature 1 > 2.5)\n",
            "         If (feature 6 <= 0.5)\n",
            "          If (feature 0 <= 1769.0)\n",
            "           If (feature 1 <= 3.5)\n",
            "            Predict: 1705.2937720329026\n",
            "           Else (feature 1 > 3.5)\n",
            "            Predict: 1595.1214285714286\n",
            "          Else (feature 0 > 1769.0)\n",
            "           If (feature 3 <= 0.5)\n",
            "            Predict: 1835.0717703349283\n",
            "           Else (feature 3 > 0.5)\n",
            "            Predict: 1729.7460674157303\n",
            "         Else (feature 6 > 0.5)\n",
            "          Predict: 1922.185\n",
            "       Else (feature 8 > 0.5)\n",
            "        If (feature 3 <= 0.5)\n",
            "         If (feature 0 <= 1769.0)\n",
            "          Predict: 2048.495652173913\n",
            "         Else (feature 0 > 1769.0)\n",
            "          Predict: 2090.642424242424\n",
            "        Else (feature 3 > 0.5)\n",
            "         Predict: 1790.7577639751553\n",
            "      Else (feature 5 > 0.5)\n",
            "       If (feature 1 <= 2.5)\n",
            "        If (feature 4 <= 0.5)\n",
            "         If (feature 0 <= 1769.0)\n",
            "          Predict: 2097.282608695652\n",
            "         Else (feature 0 > 1769.0)\n",
            "          Predict: 2008.6363636363637\n",
            "        Else (feature 4 > 0.5)\n",
            "         If (feature 0 <= 1769.0)\n",
            "          Predict: 1960.351851851852\n",
            "         Else (feature 0 > 1769.0)\n",
            "          Predict: 1613.6564885496184\n",
            "       Else (feature 1 > 2.5)\n",
            "        If (feature 8 <= 0.5)\n",
            "         If (feature 0 <= 1769.0)\n",
            "          If (feature 1 <= 4.5)\n",
            "           If (feature 3 <= 0.5)\n",
            "            Predict: 1373.3867713004483\n",
            "           Else (feature 3 > 0.5)\n",
            "            Predict: 1423.6609756097562\n",
            "          Else (feature 1 > 4.5)\n",
            "           Predict: 1205.47\n",
            "         Else (feature 0 > 1769.0)\n",
            "          If (feature 1 <= 4.5)\n",
            "           If (feature 1 <= 3.5)\n",
            "            Predict: 1441.6232771822358\n",
            "           Else (feature 1 > 3.5)\n",
            "            Predict: 1556.5533980582525\n",
            "          Else (feature 1 > 4.5)\n",
            "           Predict: 1803.0181818181818\n",
            "        Else (feature 8 > 0.5)\n",
            "         If (feature 0 <= 1769.0)\n",
            "          Predict: 971.979020979021\n",
            "         Else (feature 0 > 1769.0)\n",
            "          Predict: 1183.4601226993866\n",
            "    Else (feature 2 > 2.25)\n",
            "     If (feature 5 <= 0.5)\n",
            "      If (feature 0 <= 1769.0)\n",
            "       If (feature 1 <= 3.5)\n",
            "        If (feature 2 <= 2.75)\n",
            "         If (feature 1 <= 2.5)\n",
            "          Predict: 2135.0793650793653\n",
            "         Else (feature 1 > 2.5)\n",
            "          If (feature 3 <= 0.5)\n",
            "           Predict: 1816.404347826087\n",
            "          Else (feature 3 > 0.5)\n",
            "           Predict: 1856.4432989690722\n",
            "        Else (feature 2 > 2.75)\n",
            "         Predict: 2110.0\n",
            "       Else (feature 1 > 3.5)\n",
            "        Predict: 1481.0425531914893\n",
            "      Else (feature 0 > 1769.0)\n",
            "       If (feature 0 <= 2991.0)\n",
            "        If (feature 2 <= 2.75)\n",
            "         If (feature 6 <= 0.5)\n",
            "          If (feature 1 <= 3.5)\n",
            "           If (feature 4 <= 0.5)\n",
            "            Predict: 2012.6220472440946\n",
            "           Else (feature 4 > 0.5)\n",
            "            Predict: 2098.094262295082\n",
            "          Else (feature 1 > 3.5)\n",
            "           If (feature 4 <= 0.5)\n",
            "            Predict: 2121.17816091954\n",
            "           Else (feature 4 > 0.5)\n",
            "            Predict: 2213.2814371257487\n",
            "         Else (feature 6 > 0.5)\n",
            "          Predict: 1827.6415094339623\n",
            "        Else (feature 2 > 2.75)\n",
            "         If (feature 1 <= 4.5)\n",
            "          If (feature 3 <= 0.5)\n",
            "           If (feature 2 <= 3.25)\n",
            "            Predict: 2295.0924657534247\n",
            "           Else (feature 2 > 3.25)\n",
            "            Predict: 2443.72602739726\n",
            "          Else (feature 3 > 0.5)\n",
            "           If (feature 2 <= 3.25)\n",
            "            Predict: 2223.713567839196\n",
            "           Else (feature 2 > 3.25)\n",
            "            Predict: 2125.0476190476193\n",
            "         Else (feature 1 > 4.5)\n",
            "          Predict: 2124.942028985507\n",
            "       Else (feature 0 > 2991.0)\n",
            "        If (feature 3 <= 0.5)\n",
            "         If (feature 2 <= 3.25)\n",
            "          Predict: 2184.35\n",
            "         Else (feature 2 > 3.25)\n",
            "          Predict: 2445.6666666666665\n",
            "        Else (feature 3 > 0.5)\n",
            "         Predict: 2742.5813953488373\n",
            "     Else (feature 5 > 0.5)\n",
            "      If (feature 0 <= 2991.0)\n",
            "       If (feature 2 <= 3.75)\n",
            "        If (feature 1 <= 2.5)\n",
            "         If (feature 0 <= 1769.0)\n",
            "          Predict: 1909.6310160427809\n",
            "         Else (feature 0 > 1769.0)\n",
            "          Predict: 2030.9098360655737\n",
            "        Else (feature 1 > 2.5)\n",
            "         If (feature 0 <= 1769.0)\n",
            "          If (feature 1 <= 3.5)\n",
            "           If (feature 2 <= 2.75)\n",
            "            Predict: 1560.5339425587467\n",
            "           Else (feature 2 > 2.75)\n",
            "            Predict: 1764.7954545454545\n",
            "          Else (feature 1 > 3.5)\n",
            "           If (feature 2 <= 2.75)\n",
            "            Predict: 1326.386454183267\n",
            "           Else (feature 2 > 2.75)\n",
            "            Predict: 1386.3663366336634\n",
            "         Else (feature 0 > 1769.0)\n",
            "          If (feature 3 <= 0.5)\n",
            "           If (feature 1 <= 4.5)\n",
            "            Predict: 1773.1396484375\n",
            "           Else (feature 1 > 4.5)\n",
            "            Predict: 2079.5299145299145\n",
            "          Else (feature 3 > 0.5)\n",
            "           If (feature 2 <= 2.75)\n",
            "            Predict: 1586.1716489874639\n",
            "           Else (feature 2 > 2.75)\n",
            "            Predict: 1817.0838926174497\n",
            "       Else (feature 2 > 3.75)\n",
            "        If (feature 0 <= 1769.0)\n",
            "         Predict: 739.1111111111111\n",
            "        Else (feature 0 > 1769.0)\n",
            "         If (feature 2 <= 4.25)\n",
            "          Predict: 1696.5671641791046\n",
            "         Else (feature 2 > 4.25)\n",
            "          Predict: 899.1311475409836\n",
            "      Else (feature 0 > 2991.0)\n",
            "       If (feature 3 <= 0.5)\n",
            "        If (feature 2 <= 3.25)\n",
            "         Predict: 2158.6462585034014\n",
            "        Else (feature 2 > 3.25)\n",
            "         Predict: 2286.7487922705313\n",
            "       Else (feature 3 > 0.5)\n",
            "        If (feature 2 <= 3.25)\n",
            "         Predict: 2104.137614678899\n",
            "        Else (feature 2 > 3.25)\n",
            "         Predict: 2072.62\n",
            "\n"
          ]
        }
      ]
    },
    {
      "cell_type": "markdown",
      "metadata": {
        "id": "YAmA8tgklpXY"
      },
      "source": [
        "On constate que l'architecture de l'arbre est bien plus compliquée par rapport à notre première itération."
      ]
    },
    {
      "cell_type": "code",
      "metadata": {
        "id": "otMHgpRIsgam",
        "colab": {
          "base_uri": "https://localhost:8080/"
        },
        "outputId": "c936564b-cc66-4d79-cd72-42b57026efe9"
      },
      "source": [
        "best_dtree2.featureImportances.toArray()"
      ],
      "execution_count": 106,
      "outputs": [
        {
          "output_type": "execute_result",
          "data": {
            "text/plain": [
              "array([0.57641612, 0.07956806, 0.10344398, 0.01360095, 0.00937675,\n",
              "       0.09409137, 0.02010394, 0.06771966, 0.03567917])"
            ]
          },
          "metadata": {},
          "execution_count": 106
        }
      ]
    },
    {
      "cell_type": "markdown",
      "metadata": {
        "id": "wZ-n_BrhrhWv"
      },
      "source": [
        "Un exemple d'implémentation avec une random forest :"
      ]
    },
    {
      "cell_type": "code",
      "metadata": {
        "id": "-S-Q3LcjrfEc",
        "colab": {
          "base_uri": "https://localhost:8080/"
        },
        "outputId": "6052773d-134b-4ce5-c08b-bcfbd8796d60"
      },
      "source": [
        "from pyspark.ml.regression import RandomForestRegressor\n",
        "from pyspark.ml.evaluation import RegressionEvaluator\n",
        "\n",
        "rfm_evaluator = RegressionEvaluator(predictionCol=\"prediction\", \\\n",
        "                 labelCol=\"price\",metricName=\"rmse\")\n",
        "best_score = -5\n",
        "for x in list(np.arange(10, 40, 10)):\n",
        "  for y in list(np.arange(10,40,10)):\n",
        "    rfm = RandomForestRegressor(featuresCol = 'features', labelCol='price', maxDepth = x, numTrees = y) \n",
        "    rfm_fit = rfm.fit(train2)\n",
        "    validation_results_rfm2 = rfm_fit.transform(validation2)\n",
        "    score = rfm_evaluator.evaluate(validation_results_rfm2)\n",
        "\n",
        "    if score > best_score:\n",
        "      best_score = score\n",
        "      best_rfm = rfm_fit\n",
        "\n",
        "    print('rmse : ',score)"
      ],
      "execution_count": 107,
      "outputs": [
        {
          "output_type": "stream",
          "name": "stdout",
          "text": [
            "rmse :  476.9798045268324\n",
            "rmse :  476.6020883479848\n",
            "rmse :  476.59661418760413\n",
            "rmse :  472.0194286719034\n",
            "rmse :  471.1678886489918\n",
            "rmse :  470.7574240322324\n",
            "rmse :  472.0183741044479\n",
            "rmse :  471.1685103086448\n",
            "rmse :  470.75720305564056\n"
          ]
        }
      ]
    },
    {
      "cell_type": "markdown",
      "metadata": {
        "id": "VFLUSf0aeX47"
      },
      "source": [
        "## Conclusion"
      ]
    },
    {
      "cell_type": "markdown",
      "metadata": {
        "id": "IfC9kX3ppeeL"
      },
      "source": [
        "Nous avons pu constaté une nette amélioration des résultats entre la stratégie 1 et 2. Cela montre bien qu'il est primordial de bien traiter les données en amont d'un modèle de machine learning.\n",
        "Dans la stratégie 1, 1e modèle de l'arbre était plus simple à calculer mais l'erreur de prédiction était très élevée, tandis que le modèle de l'arbre dans la stratégie 2 était plus compliqué mais donnait de bien meilleurs résultats. \n",
        "Ces résultats sont néanmoins biaisés par les choix effectués lors du traitement des données, c'est pourquoi il faut pouvoir les justifier d'après les connaissances dont nous disposons sur les données."
      ]
    }
  ]
}